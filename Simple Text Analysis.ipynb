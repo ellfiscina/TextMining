{
 "cells": [
  {
   "cell_type": "code",
   "execution_count": 1,
   "metadata": {
    "scrolled": true
   },
   "outputs": [
    {
     "name": "stdout",
     "output_type": "stream",
     "text": [
      "Importing Jupyter notebook from Convert_NRC.ipynb\n",
      "Importing Jupyter notebook from /home/ellen/Projetos/TextMining/header/EmotionAnalysis.ipynb\n"
     ]
    }
   ],
   "source": [
    "import nbimporter\n",
    "import pandas as pd\n",
    "from header import EmotionAnalysis as ea\n",
    "import nltk\n",
    "from collections import OrderedDict, defaultdict, Counter\n",
    "import numpy as np\n",
    "from nltk.tokenize import sent_tokenize, word_tokenize"
   ]
  },
  {
   "cell_type": "markdown",
   "metadata": {},
   "source": [
    "## Original"
   ]
  },
  {
   "cell_type": "code",
   "execution_count": 3,
   "metadata": {
    "scrolled": true
   },
   "outputs": [],
   "source": [
    "filepath = 'books/senhora.txt'"
   ]
  },
  {
   "cell_type": "code",
   "execution_count": 4,
   "metadata": {
    "scrolled": true
   },
   "outputs": [],
   "source": [
    "raw = ea.open_file(filepath)"
   ]
  },
  {
   "cell_type": "code",
   "execution_count": 5,
   "metadata": {
    "scrolled": true
   },
   "outputs": [],
   "source": [
    "tokens = ea.tokenize(raw)"
   ]
  },
  {
   "cell_type": "code",
   "execution_count": 6,
   "metadata": {
    "scrolled": true
   },
   "outputs": [],
   "source": [
    "text = ea.convert_to_text(tokens)"
   ]
  },
  {
   "cell_type": "code",
   "execution_count": 8,
   "metadata": {
    "scrolled": true
   },
   "outputs": [
    {
     "name": "stdout",
     "output_type": "stream",
     "text": [
      "que lhe; estas palavras; pedro camargo; dia seguinte; sua alma;\n",
      "torquato ribeiro; câmara nupcial; santa teresa; dr. torquato; por\n",
      "isso; muitas vezes; primeira vez; cem contos; ainda mais; eduardo\n",
      "abreu; que não; que ela; nesse momento; nos lábios; não lhe\n"
     ]
    }
   ],
   "source": [
    "text.collocations()"
   ]
  },
  {
   "cell_type": "code",
   "execution_count": 15,
   "metadata": {
    "scrolled": true
   },
   "outputs": [
    {
     "name": "stdout",
     "output_type": "stream",
     "text": [
      "Displaying 25 of 25 matches:\n",
      "e em vez de arfar ao suave influxo do amor , ele devia ser agitado pelos assomos\n",
      "ue procelas de volúpia havia de ter o amor da virgem bacante . se o sinistro vis\n",
      "á de torná-los irresistíveis quando o amor os acende . a boca vestida por um big\n",
      "scina e arrasta a seus pés , ébrio de amor . quando lhe tocas , não achas senão \n",
      "rina , tudo é permitido em matéria de amor ; e o interesse próprio tem plena lib\n",
      " da culpa ; mas esperava remi-la pelo amor . suas conversas com aurélia versavam\n",
      "rno e mavioso , que é como o canto do amor , e por isso não carece da idéia , ma\n",
      "ão a esse afeto . ela abria a alma ao amor ; porém o amor que filtrava nas meiga\n",
      " . ela abria a alma ao amor ; porém o amor que filtrava nas meigas falas de seix\n",
      "amento de razão surtisse um enlace de amor ; de modo que o coração absolvia e sa\n",
      "igido pela dúvida ? - tenho fé no meu amor ; com ele vencerei o impossível . apa\n",
      "m deslumbrante , e compreendiam que o amor tinha colorido com as tintas de sua p\n",
      "de santificar pelo juramento o eterno amor que votava a sua esposa ; quando esta\n",
      "tas de bronze dourado representando o amor e a castidade sustentam uma cúpula ov\n",
      "entrever as castas primícias do santo amor conjugal . trazia aurélia uma túnica \n",
      "eres neste mundo , e beber na taça do amor , em que talvez nunca mais toquem est\n",
      "ente . seria a profanação deste santo amor que foi e será toda a minha vida ! er\n",
      "o retirava ; e modulou o seu canto de amor , essa ode sublime do coração , que s\n",
      "; toda ela se embebia dos eflúvios de amor , de que ele a repassava com a palavr\n",
      "e minha mãe . o meu primeiro beijo de amor , guardei-o para minha esposa , para \n",
      " jamais se animaria a confessar o seu amor ao pai , que lhe inspirava desde a in\n",
      "animava a pedir-lhe esta prova de seu amor , emília . você é um anjo ! quinze di\n",
      "sa em que ficara , mas sobretudo pelo amor que tinha ao marido . era porém feita\n",
      "ração . essas ausências acrisolavam o amor , e lhe davam uma exuberância que mai\n",
      "esabrochara ainda ; mas virgem para o amor , ela tinha não obstante a vaga intui\n"
     ]
    }
   ],
   "source": [
    "text.concordance(\"amor\")"
   ]
  },
  {
   "cell_type": "code",
   "execution_count": 16,
   "metadata": {
    "scrolled": false
   },
   "outputs": [
    {
     "name": "stdout",
     "output_type": "stream",
     "text": [
      "marido moço casamento que homem coração espírito olhar seixas braço\n",
      "lemos tempo papel pensamento velho prazer aurélia futuro preço carro\n"
     ]
    }
   ],
   "source": [
    "text.similar(\"amor\")"
   ]
  },
  {
   "cell_type": "markdown",
   "metadata": {},
   "source": [
    "## Tratar plural"
   ]
  },
  {
   "cell_type": "code",
   "execution_count": 47,
   "metadata": {
    "scrolled": true
   },
   "outputs": [],
   "source": [
    "import re\n",
    "s = re.compile('s$')\n",
    "oes = re.compile('ões$|ãos$|ães$')\n",
    "res = re.compile('res$')\n",
    "zes = re.compile('zes$')\n",
    "ses = re.compile('ses$')\n",
    "ais = re.compile('ais$')\n",
    "eis = re.compile('éis$')\n",
    "ois = re.compile('óis$')\n",
    "uis = re.compile('uis$')\n",
    "eis = re.compile('is$|eis$')\n",
    "ns = re.compile('ns$')\n",
    "nes = re.compile('nes$')"
   ]
  },
  {
   "cell_type": "code",
   "execution_count": 48,
   "metadata": {
    "scrolled": true
   },
   "outputs": [],
   "source": [
    "def singularize(tokens):\n",
    "    new_t = []\n",
    "    \n",
    "    for t in tokens:\n",
    "        if t.endswith('ões') | t.endswith('ãos') | t.endswith('ães') :\n",
    "            new_t.append(re.sub(oes, 'ão', t))\n",
    "        elif t.endswith('res'):\n",
    "            new_t.append(re.sub(res, 'r', t))\n",
    "        elif t.endswith('zes'):\n",
    "            new_t.append(re.sub(zes, 'z', t))\n",
    "        elif t.endswith('ses'):\n",
    "            new_t.append(re.sub(ses, 's', t))\n",
    "        elif t.endswith('ais'):\n",
    "            new_t.append(re.sub(ais, 'al', t))\n",
    "        elif t.endswith('éis'):\n",
    "            new_t.append(re.sub(eis, 'el', t))\n",
    "        elif t.endswith('óis'):\n",
    "            new_t.append(re.sub(ois, 'ol', t))\n",
    "        elif t.endswith('uis'):\n",
    "            new_t.append(re.sub(uis, 'ul', t))\n",
    "        elif t.endswith('is') | t.endswith('eis') :\n",
    "            new_t.append(re.sub(eis, 'il', t))\n",
    "        elif t.endswith('ns'):\n",
    "            new_t.append(re.sub(ns, 'm', t))\n",
    "        elif t.endswith('nes'):\n",
    "            new_t.append(re.sub(nes, 'n', t))\n",
    "        elif t.endswith('s'):\n",
    "            new_t.append(re.sub(s, '', t))\n",
    "        else:\n",
    "            new_t.append(t)\n",
    "            \n",
    "    return new_t"
   ]
  },
  {
   "cell_type": "code",
   "execution_count": 49,
   "metadata": {
    "scrolled": true
   },
   "outputs": [],
   "source": [
    "singular = singularize(new_tokens)"
   ]
  }
 ],
 "metadata": {
  "kernelspec": {
   "display_name": "Python 3",
   "language": "python",
   "name": "python3"
  },
  "language_info": {
   "codemirror_mode": {
    "name": "ipython",
    "version": 3
   },
   "file_extension": ".py",
   "mimetype": "text/x-python",
   "name": "python",
   "nbconvert_exporter": "python",
   "pygments_lexer": "ipython3",
   "version": "3.6.5"
  }
 },
 "nbformat": 4,
 "nbformat_minor": 2
}
