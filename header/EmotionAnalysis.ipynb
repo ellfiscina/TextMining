{
 "cells": [
  {
   "cell_type": "markdown",
   "metadata": {},
   "source": [
    "## Imports e downloads"
   ]
  },
  {
   "cell_type": "code",
   "execution_count": null,
   "metadata": {},
   "outputs": [],
   "source": [
    "import nltk\n",
    "import pandas as pd\n",
    "import csv\n",
    "from collections import OrderedDict, defaultdict, Counter\n",
    "from urllib import request\n",
    "from nltk import ngrams, FreqDist\n",
    "from nltk.corpus import floresta"
   ]
  },
  {
   "cell_type": "code",
   "execution_count": null,
   "metadata": {},
   "outputs": [],
   "source": [
    "nltk.download('punkt')\n",
    "nltk.download('stopwords')\n",
    "nltk.download('floresta')"
   ]
  },
  {
   "cell_type": "markdown",
   "metadata": {},
   "source": [
    "## Coleta de documento"
   ]
  },
  {
   "cell_type": "code",
   "execution_count": null,
   "metadata": {},
   "outputs": [],
   "source": [
    "def open_file(filepath):\n",
    "    file = open(filepath, 'r')\n",
    "\n",
    "    return file.read()"
   ]
  },
  {
   "cell_type": "markdown",
   "metadata": {},
   "source": [
    "## Pré-processamento"
   ]
  },
  {
   "cell_type": "code",
   "execution_count": null,
   "metadata": {},
   "outputs": [],
   "source": [
    "def pre_process(raw):\n",
    "    stopwords = nltk.corpus.stopwords.words('portuguese')\n",
    "    \n",
    "    tokens = nltk.word_tokenize(raw.lower())\n",
    "    filtered = [t for t in tokens if t not in stopwords and t.isalpha() and len(t) > 1]\n",
    "    text = nltk.Text(tokens)\n",
    "    dist = FreqDist(filtered)\n",
    "    \n",
    "    return tokens, filtered, text, dist"
   ]
  },
  {
   "cell_type": "markdown",
   "metadata": {},
   "source": [
    "## Informações básicas sobre o texto"
   ]
  },
  {
   "cell_type": "code",
   "execution_count": null,
   "metadata": {},
   "outputs": [],
   "source": [
    "def info(tokens, filtered_tokens):\n",
    "    print(f\"quantidade de palavras: {len(tokens)}\")\n",
    "    print(f\"quantidade de palavras após o filtro: {len(filtered_tokens)}\")\n",
    "    print(f\"quantidade de palavras únicas: {len(set(tokens))}\")\n",
    "    print(f\"quantidade de palavras únicas após o filtro: {len(set(filtered_tokens))}\")\n",
    "    print(f\"diversidade léxica: {(len(set(filtered_tokens)) / len(filtered_tokens))*100}\")"
   ]
  },
  {
   "cell_type": "markdown",
   "metadata": {},
   "source": [
    "### Frequência e distribuição de palavras"
   ]
  },
  {
   "cell_type": "code",
   "execution_count": null,
   "metadata": {},
   "outputs": [],
   "source": [
    "def most_frequent(tokens, dist):\n",
    "    sortedToken = sorted(list(set(tokens)), key=lambda token: dist[token], reverse=True)\n",
    "    frequent_tokens = [(token, dist[token]) for token in sortedToken[:20]]\n",
    "    \n",
    "    return frequent_tokens"
   ]
  },
  {
   "cell_type": "markdown",
   "metadata": {},
   "source": [
    "### Análise de contexto"
   ]
  },
  {
   "cell_type": "code",
   "execution_count": null,
   "metadata": {},
   "outputs": [],
   "source": [
    "def n_grams(text, dist):\n",
    "    target_word = dist.max()\n",
    "    fd = FreqDist(ng for ng in ngrams(text, 2) if target_word in ng)\n",
    "    for hit in fd:\n",
    "        print(' '.join(hit))"
   ]
  },
  {
   "cell_type": "code",
   "execution_count": null,
   "metadata": {},
   "outputs": [],
   "source": [
    "# O método concordance permite ver palavras em um contexto\n",
    "def context(text, dist):\n",
    "    target_word = dist.max()\n",
    "    \n",
    "    return text.concordance(target_word)"
   ]
  },
  {
   "cell_type": "markdown",
   "metadata": {},
   "source": [
    "## Análise de Emoção"
   ]
  },
  {
   "cell_type": "code",
   "execution_count": null,
   "metadata": {},
   "outputs": [],
   "source": [
    "def emolex():\n",
    "    wordList = defaultdict(list)\n",
    "    emotionList = defaultdict(list)\n",
    "\n",
    "    with open('lexico/emolex.csv', 'r') as f:\n",
    "        reader = csv.DictReader(f)\n",
    "        for row in reader:\n",
    "            if int(row['present']) == 1:\n",
    "                wordList[row['word']].append(row['emotion'])\n",
    "                emotionList[row['emotion']].append(row['word'])\n",
    "    \n",
    "    return wordList, emotionList"
   ]
  },
  {
   "cell_type": "code",
   "execution_count": null,
   "metadata": {},
   "outputs": [],
   "source": [
    "def generate_count(word_list, filtered_tokens):\n",
    "    emoCount = Counter()\n",
    "    for t in filtered_tokens:\n",
    "        if len(word_list[t]) > 0:\n",
    "            emoCount += Counter(word_list[t])\n",
    "    return emoCount"
   ]
  },
  {
   "cell_type": "code",
   "execution_count": null,
   "metadata": {},
   "outputs": [],
   "source": [
    "def newList(emotionList, filtered_tokens):\n",
    "    emoList = defaultdict(list)\n",
    "    for t in filtered_tokens:\n",
    "        for e in emotionList:\n",
    "            for w in emotionList[e]:\n",
    "                if w == t:\n",
    "                    emoList[e].append(w)\n",
    "    \n",
    "    return emoList"
   ]
  },
  {
   "cell_type": "code",
   "execution_count": null,
   "metadata": {},
   "outputs": [],
   "source": []
  }
 ],
 "metadata": {
  "kernelspec": {
   "display_name": "Python 3",
   "language": "python",
   "name": "python3"
  },
  "language_info": {
   "codemirror_mode": {
    "name": "ipython",
    "version": 3
   },
   "file_extension": ".py",
   "mimetype": "text/x-python",
   "name": "python",
   "nbconvert_exporter": "python",
   "pygments_lexer": "ipython3",
   "version": "3.7.0"
  }
 },
 "nbformat": 4,
 "nbformat_minor": 2
}
