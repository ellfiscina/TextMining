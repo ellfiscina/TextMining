{
 "cells": [
  {
   "cell_type": "markdown",
   "metadata": {},
   "source": [
    "# Análise de Senhora"
   ]
  },
  {
   "cell_type": "code",
   "execution_count": 1,
   "metadata": {},
   "outputs": [
    {
     "name": "stdout",
     "output_type": "stream",
     "text": [
      "Importing Jupyter notebook from Convert_NRC.ipynb\n",
      "Importing Jupyter notebook from /home/ellen/Documentos/TextMining/header/EmotionAnalysis.ipynb\n"
     ]
    }
   ],
   "source": [
    "import nbimporter\n",
    "import pandas as pd\n",
    "import Convert_NRC as nrc\n",
    "from header import EmotionAnalysis as ea"
   ]
  },
  {
   "cell_type": "markdown",
   "metadata": {},
   "source": [
    "## Obtenção do documento"
   ]
  },
  {
   "cell_type": "code",
   "execution_count": 2,
   "metadata": {},
   "outputs": [],
   "source": [
    "filepath = 'books/senhora.txt'"
   ]
  },
  {
   "cell_type": "code",
   "execution_count": 3,
   "metadata": {},
   "outputs": [],
   "source": [
    "raw = ea.open_file(filepath)"
   ]
  },
  {
   "cell_type": "markdown",
   "metadata": {},
   "source": [
    "## Análise de texto com préprocessamento simples"
   ]
  },
  {
   "cell_type": "markdown",
   "metadata": {},
   "source": [
    "### Préprocessamento"
   ]
  },
  {
   "cell_type": "code",
   "execution_count": 11,
   "metadata": {},
   "outputs": [],
   "source": [
    "tokens = ea.tokenize(raw)"
   ]
  },
  {
   "cell_type": "code",
   "execution_count": 5,
   "metadata": {},
   "outputs": [],
   "source": [
    "text = ea.convert_to_text(tokens)"
   ]
  },
  {
   "cell_type": "code",
   "execution_count": 6,
   "metadata": {},
   "outputs": [],
   "source": [
    "stopwords = ea.get_stopwords()"
   ]
  },
  {
   "cell_type": "code",
   "execution_count": 7,
   "metadata": {},
   "outputs": [],
   "source": [
    "no_stop_tokens = ea.remove_stopwords(stopwords, tokens)"
   ]
  },
  {
   "cell_type": "code",
   "execution_count": 8,
   "metadata": {},
   "outputs": [],
   "source": [
    "filtered_tokens = ea.remove_not_alpha(no_stop_tokens)"
   ]
  },
  {
   "cell_type": "markdown",
   "metadata": {},
   "source": [
    "### Análise do texto"
   ]
  },
  {
   "cell_type": "code",
   "execution_count": 9,
   "metadata": {},
   "outputs": [],
   "source": [
    "dist = ea.tokens_frequency(filtered_tokens)"
   ]
  },
  {
   "cell_type": "code",
   "execution_count": 10,
   "metadata": {},
   "outputs": [
    {
     "name": "stdout",
     "output_type": "stream",
     "text": [
      "quantidade de palavras: 88243\n",
      "quantidade de palavras após o filtro: 38845\n",
      "quantidade de palavras únicas: 12230\n",
      "quantidade de palavras únicas após o filtro: 10311\n",
      "diversidade léxica: 26.543956751190628\n"
     ]
    }
   ],
   "source": [
    "ea.info(tokens, filtered_tokens)"
   ]
  },
  {
   "cell_type": "code",
   "execution_count": 11,
   "metadata": {},
   "outputs": [
    {
     "name": "stdout",
     "output_type": "stream",
     "text": [
      "20 palavras mais frequentes: [('aurélia', 623), ('seixas', 457), ('é', 397), ('moça', 270), ('marido', 216), ('ainda', 168), ('mulher', 167), ('casa', 144), ('havia', 137), ('fernando', 131), ('amor', 121), ('disse', 116), ('lemos', 111), ('senhor', 111), ('alma', 110), ('tempo', 110), ('noite', 109), ('casamento', 109), ('senhora', 102), ('onde', 102)]\n"
     ]
    }
   ],
   "source": [
    "freq = ea.most_frequent(filtered_tokens, dist, 20)\n",
    "print(f\"20 palavras mais frequentes: {freq}\")"
   ]
  },
  {
   "cell_type": "markdown",
   "metadata": {},
   "source": [
    "### Análise de Emoção"
   ]
  },
  {
   "cell_type": "code",
   "execution_count": 12,
   "metadata": {
    "scrolled": true
   },
   "outputs": [],
   "source": [
    "wordList, emotionList = ea.emolex()"
   ]
  },
  {
   "cell_type": "code",
   "execution_count": 13,
   "metadata": {
    "scrolled": true
   },
   "outputs": [],
   "source": [
    "emoList = ea.newList(emotionList, filtered_tokens)"
   ]
  },
  {
   "cell_type": "code",
   "execution_count": 14,
   "metadata": {
    "scrolled": true
   },
   "outputs": [],
   "source": [
    "emotionCounts = ea.generate_count(wordList, filtered_tokens)"
   ]
  },
  {
   "cell_type": "code",
   "execution_count": 15,
   "metadata": {
    "scrolled": true
   },
   "outputs": [
    {
     "data": {
      "text/plain": [
       "[('positivo', 4357),\n",
       " ('confiança', 2552),\n",
       " ('negativo', 2373),\n",
       " ('antecipação', 2002),\n",
       " ('alegria', 1796),\n",
       " ('tristeza', 1469),\n",
       " ('medo', 1312),\n",
       " ('raiva', 1011),\n",
       " ('surpresa', 789),\n",
       " ('nojo', 752)]"
      ]
     },
     "execution_count": 15,
     "metadata": {},
     "output_type": "execute_result"
    }
   ],
   "source": [
    "emotionCounts.most_common()"
   ]
  },
  {
   "cell_type": "code",
   "execution_count": 16,
   "metadata": {
    "scrolled": true
   },
   "outputs": [],
   "source": [
    "wordCounts = ea.generate_count(emoList, filtered_tokens)"
   ]
  },
  {
   "cell_type": "code",
   "execution_count": 17,
   "metadata": {
    "scrolled": true
   },
   "outputs": [
    {
     "data": {
      "text/plain": [
       "[('amor', 2178),\n",
       " ('moça', 1620),\n",
       " ('mãe', 1260),\n",
       " ('casamento', 1199),\n",
       " ('esperança', 690),\n",
       " ('senhor', 666),\n",
       " ('doce', 660),\n",
       " ('boa', 600),\n",
       " ('liberdade', 600),\n",
       " ('surpresa', 589),\n",
       " ('dinheiro', 539),\n",
       " ('corte', 480),\n",
       " ('paixão', 462),\n",
       " ('segredo', 460),\n",
       " ('destino', 456),\n",
       " ('deus', 448),\n",
       " ('moral', 420),\n",
       " ('sorte', 416),\n",
       " ('canto', 390),\n",
       " ('verdade', 385)]"
      ]
     },
     "execution_count": 17,
     "metadata": {},
     "output_type": "execute_result"
    }
   ],
   "source": [
    "wordCounts.most_common(20)"
   ]
  },
  {
   "cell_type": "markdown",
   "metadata": {},
   "source": [
    "## Análise com préprocessamento mais complexo"
   ]
  },
  {
   "cell_type": "markdown",
   "metadata": {},
   "source": [
    "### Préprocessamento"
   ]
  },
  {
   "cell_type": "code",
   "execution_count": 19,
   "metadata": {},
   "outputs": [],
   "source": [
    "tags = ea.tags(raw)"
   ]
  },
  {
   "cell_type": "code",
   "execution_count": 27,
   "metadata": {},
   "outputs": [],
   "source": [
    "new_tokens = [t[2] for t in tags]"
   ]
  },
  {
   "cell_type": "code",
   "execution_count": 30,
   "metadata": {},
   "outputs": [],
   "source": [
    "negated_tokens = ea.negations(new_tokens)"
   ]
  },
  {
   "cell_type": "code",
   "execution_count": 32,
   "metadata": {},
   "outputs": [],
   "source": [
    "new_no_stop = ea.remove_stopwords(stopwords, negated_tokens)"
   ]
  },
  {
   "cell_type": "code",
   "execution_count": 34,
   "metadata": {},
   "outputs": [],
   "source": [
    "filtered = ea.remove_not_alpha(new_no_stop)"
   ]
  },
  {
   "cell_type": "markdown",
   "metadata": {},
   "source": [
    "### Análise do texto"
   ]
  },
  {
   "cell_type": "code",
   "execution_count": 35,
   "metadata": {},
   "outputs": [
    {
     "data": {
      "text/plain": [
       "FreqDist({'ser': 950, 'aurélia': 598, 'ter': 597, 'moço': 349, 'ir': 318, 'estar': 312, 'haver': 291, 'fazer': 289, 'seixas': 237, 'poder': 236, ...})"
      ]
     },
     "execution_count": 35,
     "metadata": {},
     "output_type": "execute_result"
    }
   ],
   "source": [
    "dist = ea.tokens_frequency(filtered)\n",
    "dist"
   ]
  },
  {
   "cell_type": "code",
   "execution_count": 36,
   "metadata": {},
   "outputs": [
    {
     "data": {
      "text/plain": [
       "[('ser', 950),\n",
       " ('aurélia', 598),\n",
       " ('ter', 597),\n",
       " ('moço', 349),\n",
       " ('ir', 318),\n",
       " ('estar', 312),\n",
       " ('haver', 291),\n",
       " ('fazer', 289),\n",
       " ('seixas', 237),\n",
       " ('poder', 236),\n",
       " ('senhor', 231),\n",
       " ('todo', 222),\n",
       " ('dizer', 217),\n",
       " ('marido', 217),\n",
       " ('seixa', 209),\n",
       " ('outro', 208),\n",
       " ('dar', 185),\n",
       " ('mulher', 183),\n",
       " ('ver', 166),\n",
       " ('ainda', 165)]"
      ]
     },
     "execution_count": 36,
     "metadata": {},
     "output_type": "execute_result"
    }
   ],
   "source": [
    "freq = ea.most_frequent(filtered, dist, 20)\n",
    "freq"
   ]
  },
  {
   "cell_type": "markdown",
   "metadata": {},
   "source": [
    "### Análise de Emoção"
   ]
  },
  {
   "cell_type": "code",
   "execution_count": 37,
   "metadata": {
    "scrolled": true
   },
   "outputs": [],
   "source": [
    "new_emoList = ea.newList(emotionList, filtered)"
   ]
  },
  {
   "cell_type": "code",
   "execution_count": 38,
   "metadata": {
    "scrolled": true
   },
   "outputs": [],
   "source": [
    "new_emotionCounts = ea.generate_count_with_negation(wordList, filtered)"
   ]
  },
  {
   "cell_type": "code",
   "execution_count": 39,
   "metadata": {
    "scrolled": true
   },
   "outputs": [
    {
     "data": {
      "text/plain": [
       "[('positivo', 5766),\n",
       " ('negativo', 3505),\n",
       " ('confiança', 3305),\n",
       " ('antecipação', 2900),\n",
       " ('alegria', 2278),\n",
       " ('medo', 1925),\n",
       " ('tristeza', 1871),\n",
       " ('raiva', 1401),\n",
       " ('surpresa', 1190),\n",
       " ('nojo', 1082)]"
      ]
     },
     "execution_count": 39,
     "metadata": {},
     "output_type": "execute_result"
    }
   ],
   "source": [
    "new_emotionCounts.most_common()"
   ]
  },
  {
   "cell_type": "code",
   "execution_count": 40,
   "metadata": {
    "scrolled": true
   },
   "outputs": [],
   "source": [
    "new_wordCounts = ea.generate_count(emoList, filtered)"
   ]
  },
  {
   "cell_type": "code",
   "execution_count": 41,
   "metadata": {
    "scrolled": true
   },
   "outputs": [
    {
     "data": {
      "text/plain": [
       "[('amor', 2541),\n",
       " ('moça', 2160),\n",
       " ('mãe', 1540),\n",
       " ('casamento', 1417),\n",
       " ('senhor', 888),\n",
       " ('esperança', 736),\n",
       " ('doce', 704),\n",
       " ('boa', 640),\n",
       " ('liberdade', 640),\n",
       " ('dinheiro', 637),\n",
       " ('surpresa', 627),\n",
       " ('paixão', 546),\n",
       " ('corte', 544),\n",
       " ('deus', 504),\n",
       " ('destino', 492),\n",
       " ('segredo', 460),\n",
       " ('verdade', 455),\n",
       " ('sorte', 448),\n",
       " ('moral', 448),\n",
       " ('riqueza', 442)]"
      ]
     },
     "execution_count": 41,
     "metadata": {},
     "output_type": "execute_result"
    }
   ],
   "source": [
    "new_wordCounts.most_common(20)"
   ]
  },
  {
   "cell_type": "markdown",
   "metadata": {},
   "source": [
    "## Análise com préprocessamento mais complexo2"
   ]
  },
  {
   "cell_type": "markdown",
   "metadata": {},
   "source": [
    "### Préprocessamento"
   ]
  },
  {
   "cell_type": "code",
   "execution_count": 10,
   "metadata": {},
   "outputs": [],
   "source": [
    "import re\n",
    "import time"
   ]
  },
  {
   "cell_type": "code",
   "execution_count": 7,
   "metadata": {},
   "outputs": [],
   "source": [
    "label = re.compile('^A|^R|^N|^V')"
   ]
  },
  {
   "cell_type": "code",
   "execution_count": 15,
   "metadata": {},
   "outputs": [
    {
     "name": "stderr",
     "output_type": "stream",
     "text": [
      "ERROR:root:Internal Python error in the inspect module.\n",
      "Below is the traceback from this internal error.\n",
      "\n"
     ]
    },
    {
     "name": "stdout",
     "output_type": "stream",
     "text": [
      "Traceback (most recent call last):\n",
      "  File \"/home/ellen/anaconda3/lib/python3.7/site-packages/IPython/core/interactiveshell.py\", line 2961, in run_code\n",
      "    exec(code_obj, self.user_global_ns, self.user_ns)\n",
      "  File \"<ipython-input-15-5c56259926ee>\", line 4, in <module>\n",
      "    tag = ea.tags(t)\n",
      "  File \"/home/ellen/Documentos/TextMining/header/EmotionAnalysis.ipynb\", line 3, in tags\n",
      "    {\n",
      "  File \"/home/ellen/anaconda3/lib/python3.7/site-packages/treetagger-1.1.0-py3.7.egg/treetagger.py\", line 164, in tag\n",
      "    (stdout, stderr) = p.communicate(str(_input).encode('utf-8'))\n",
      "  File \"/home/ellen/anaconda3/lib/python3.7/subprocess.py\", line 920, in communicate\n",
      "    stdout, stderr = self._communicate(input, endtime, timeout)\n",
      "  File \"/home/ellen/anaconda3/lib/python3.7/subprocess.py\", line 1658, in _communicate\n",
      "    ready = selector.select(timeout)\n",
      "  File \"/home/ellen/anaconda3/lib/python3.7/selectors.py\", line 415, in select\n",
      "    fd_event_list = self._selector.poll(timeout)\n",
      "KeyboardInterrupt\n",
      "\n",
      "During handling of the above exception, another exception occurred:\n",
      "\n",
      "Traceback (most recent call last):\n",
      "  File \"/home/ellen/anaconda3/lib/python3.7/site-packages/IPython/core/interactiveshell.py\", line 1863, in showtraceback\n",
      "    stb = value._render_traceback_()\n",
      "AttributeError: 'KeyboardInterrupt' object has no attribute '_render_traceback_'\n",
      "\n",
      "During handling of the above exception, another exception occurred:\n",
      "\n",
      "Traceback (most recent call last):\n",
      "  File \"/home/ellen/anaconda3/lib/python3.7/site-packages/IPython/core/ultratb.py\", line 1095, in get_records\n",
      "    return _fixed_getinnerframes(etb, number_of_lines_of_context, tb_offset)\n",
      "  File \"/home/ellen/anaconda3/lib/python3.7/site-packages/IPython/core/ultratb.py\", line 311, in wrapped\n",
      "    return f(*args, **kwargs)\n",
      "  File \"/home/ellen/anaconda3/lib/python3.7/site-packages/IPython/core/ultratb.py\", line 345, in _fixed_getinnerframes\n",
      "    records = fix_frame_records_filenames(inspect.getinnerframes(etb, context))\n",
      "  File \"/home/ellen/anaconda3/lib/python3.7/inspect.py\", line 1495, in getinnerframes\n",
      "    frameinfo = (tb.tb_frame,) + getframeinfo(tb, context)\n",
      "  File \"/home/ellen/anaconda3/lib/python3.7/inspect.py\", line 1457, in getframeinfo\n",
      "    lines, lnum = findsource(frame)\n",
      "  File \"/home/ellen/anaconda3/lib/python3.7/site-packages/IPython/core/ultratb.py\", line 224, in findsource\n",
      "    if pmatch(lines[lnum]):\n",
      "KeyboardInterrupt\n"
     ]
    },
    {
     "ename": "KeyboardInterrupt",
     "evalue": "",
     "output_type": "error",
     "traceback": [
      "\u001b[0;31m---------------------------------------------------------------------------\u001b[0m"
     ]
    }
   ],
   "source": [
    "i = 0\n",
    "start_time = time.time()\n",
    "for t in tokens:\n",
    "    tag = ea.tags(t)\n",
    "    if re.search(label, tag[0][1]):\n",
    "        t = tag[0][2]\n",
    "    i+=1\n",
    "    print(i)\n",
    "elapsed_time = time.time() - start_time"
   ]
  },
  {
   "cell_type": "code",
   "execution_count": 27,
   "metadata": {},
   "outputs": [],
   "source": [
    "new_tokens = [t[2] for t in tags]"
   ]
  },
  {
   "cell_type": "code",
   "execution_count": 30,
   "metadata": {},
   "outputs": [],
   "source": [
    "negated_tokens = ea.negations(new_tokens)"
   ]
  },
  {
   "cell_type": "code",
   "execution_count": 32,
   "metadata": {},
   "outputs": [],
   "source": [
    "new_no_stop = ea.remove_stopwords(stopwords, negated_tokens)"
   ]
  },
  {
   "cell_type": "code",
   "execution_count": 34,
   "metadata": {},
   "outputs": [],
   "source": [
    "filtered = ea.remove_not_alpha(new_no_stop)"
   ]
  },
  {
   "cell_type": "markdown",
   "metadata": {},
   "source": [
    "### Análise do texto"
   ]
  },
  {
   "cell_type": "code",
   "execution_count": 35,
   "metadata": {},
   "outputs": [
    {
     "data": {
      "text/plain": [
       "FreqDist({'ser': 950, 'aurélia': 598, 'ter': 597, 'moço': 349, 'ir': 318, 'estar': 312, 'haver': 291, 'fazer': 289, 'seixas': 237, 'poder': 236, ...})"
      ]
     },
     "execution_count": 35,
     "metadata": {},
     "output_type": "execute_result"
    }
   ],
   "source": [
    "dist = ea.tokens_frequency(filtered)\n",
    "dist"
   ]
  },
  {
   "cell_type": "code",
   "execution_count": 36,
   "metadata": {},
   "outputs": [
    {
     "data": {
      "text/plain": [
       "[('ser', 950),\n",
       " ('aurélia', 598),\n",
       " ('ter', 597),\n",
       " ('moço', 349),\n",
       " ('ir', 318),\n",
       " ('estar', 312),\n",
       " ('haver', 291),\n",
       " ('fazer', 289),\n",
       " ('seixas', 237),\n",
       " ('poder', 236),\n",
       " ('senhor', 231),\n",
       " ('todo', 222),\n",
       " ('dizer', 217),\n",
       " ('marido', 217),\n",
       " ('seixa', 209),\n",
       " ('outro', 208),\n",
       " ('dar', 185),\n",
       " ('mulher', 183),\n",
       " ('ver', 166),\n",
       " ('ainda', 165)]"
      ]
     },
     "execution_count": 36,
     "metadata": {},
     "output_type": "execute_result"
    }
   ],
   "source": [
    "freq = ea.most_frequent(filtered, dist, 20)\n",
    "freq"
   ]
  },
  {
   "cell_type": "markdown",
   "metadata": {},
   "source": [
    "### Análise de Emoção"
   ]
  },
  {
   "cell_type": "code",
   "execution_count": 37,
   "metadata": {
    "scrolled": true
   },
   "outputs": [],
   "source": [
    "new_emoList = ea.newList(emotionList, filtered)"
   ]
  },
  {
   "cell_type": "code",
   "execution_count": 38,
   "metadata": {
    "scrolled": true
   },
   "outputs": [],
   "source": [
    "new_emotionCounts = ea.generate_count_with_negation(wordList, filtered)"
   ]
  },
  {
   "cell_type": "code",
   "execution_count": 39,
   "metadata": {
    "scrolled": true
   },
   "outputs": [
    {
     "data": {
      "text/plain": [
       "[('positivo', 5766),\n",
       " ('negativo', 3505),\n",
       " ('confiança', 3305),\n",
       " ('antecipação', 2900),\n",
       " ('alegria', 2278),\n",
       " ('medo', 1925),\n",
       " ('tristeza', 1871),\n",
       " ('raiva', 1401),\n",
       " ('surpresa', 1190),\n",
       " ('nojo', 1082)]"
      ]
     },
     "execution_count": 39,
     "metadata": {},
     "output_type": "execute_result"
    }
   ],
   "source": [
    "new_emotionCounts.most_common()"
   ]
  },
  {
   "cell_type": "code",
   "execution_count": 40,
   "metadata": {
    "scrolled": true
   },
   "outputs": [],
   "source": [
    "new_wordCounts = ea.generate_count(emoList, filtered)"
   ]
  },
  {
   "cell_type": "code",
   "execution_count": 41,
   "metadata": {
    "scrolled": true
   },
   "outputs": [
    {
     "data": {
      "text/plain": [
       "[('amor', 2541),\n",
       " ('moça', 2160),\n",
       " ('mãe', 1540),\n",
       " ('casamento', 1417),\n",
       " ('senhor', 888),\n",
       " ('esperança', 736),\n",
       " ('doce', 704),\n",
       " ('boa', 640),\n",
       " ('liberdade', 640),\n",
       " ('dinheiro', 637),\n",
       " ('surpresa', 627),\n",
       " ('paixão', 546),\n",
       " ('corte', 544),\n",
       " ('deus', 504),\n",
       " ('destino', 492),\n",
       " ('segredo', 460),\n",
       " ('verdade', 455),\n",
       " ('sorte', 448),\n",
       " ('moral', 448),\n",
       " ('riqueza', 442)]"
      ]
     },
     "execution_count": 41,
     "metadata": {},
     "output_type": "execute_result"
    }
   ],
   "source": [
    "new_wordCounts.most_common(20)"
   ]
  },
  {
   "cell_type": "code",
   "execution_count": null,
   "metadata": {},
   "outputs": [],
   "source": []
  }
 ],
 "metadata": {
  "kernelspec": {
   "display_name": "Python 3",
   "language": "python",
   "name": "python3"
  }
 },
 "nbformat": 4,
 "nbformat_minor": 2
}
