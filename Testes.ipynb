{
 "cells": [
  {
   "cell_type": "code",
   "execution_count": 1,
   "metadata": {
    "scrolled": true
   },
   "outputs": [
    {
     "name": "stdout",
     "output_type": "stream",
     "text": [
      "Importing Jupyter notebook from Convert_NRC.ipynb\n",
      "Importing Jupyter notebook from C:\\Users\\Jarina\\Documents\\Ellen\\TextMining\\header\\EmotionAnalysis.ipynb\n"
     ]
    }
   ],
   "source": [
    "import nbimporter\n",
    "import pandas as pd\n",
    "import Convert_NRC as nrc\n",
    "from header import EmotionAnalysis as ea"
   ]
  },
  {
   "cell_type": "code",
   "execution_count": 2,
   "metadata": {
    "scrolled": true
   },
   "outputs": [
    {
     "data": {
      "text/plain": [
       "'File created'"
      ]
     },
     "execution_count": 2,
     "metadata": {},
     "output_type": "execute_result"
    }
   ],
   "source": [
    "nrc.create_emolex()"
   ]
  },
  {
   "cell_type": "markdown",
   "metadata": {},
   "source": [
    "## Original"
   ]
  },
  {
   "cell_type": "code",
   "execution_count": 3,
   "metadata": {
    "scrolled": true
   },
   "outputs": [],
   "source": [
    "filepath = 'books/senhora.txt'"
   ]
  },
  {
   "cell_type": "code",
   "execution_count": 4,
   "metadata": {
    "scrolled": true
   },
   "outputs": [],
   "source": [
    "raw = ea.open_file(filepath)"
   ]
  },
  {
   "cell_type": "code",
   "execution_count": 5,
   "metadata": {
    "scrolled": true
   },
   "outputs": [],
   "source": [
    "tokens = ea.tokenize(raw)"
   ]
  },
  {
   "cell_type": "code",
   "execution_count": 6,
   "metadata": {
    "scrolled": true
   },
   "outputs": [],
   "source": [
    "filtered = ea.filter(tokens)"
   ]
  },
  {
   "cell_type": "code",
   "execution_count": 7,
   "metadata": {
    "scrolled": true
   },
   "outputs": [],
   "source": [
    "text = ea.convert_to_text(tokens)"
   ]
  },
  {
   "cell_type": "code",
   "execution_count": 8,
   "metadata": {
    "scrolled": true
   },
   "outputs": [],
   "source": [
    "dist = ea.tokens_frequency(filtered)"
   ]
  },
  {
   "cell_type": "code",
   "execution_count": 9,
   "metadata": {
    "scrolled": true
   },
   "outputs": [
    {
     "name": "stdout",
     "output_type": "stream",
     "text": [
      "quantidade de palavras: 88243\n",
      "quantidade de palavras após o filtro: 38415\n",
      "quantidade de palavras únicas: 12230\n",
      "quantidade de palavras únicas após o filtro: 10304\n",
      "diversidade léxica: 26.822855655342963\n"
     ]
    }
   ],
   "source": [
    "ea.info(tokens, filtered)"
   ]
  },
  {
   "cell_type": "code",
   "execution_count": 10,
   "metadata": {
    "scrolled": true
   },
   "outputs": [],
   "source": [
    "freq = ea.most_frequent(filtered, dist, 20)"
   ]
  },
  {
   "cell_type": "code",
   "execution_count": 11,
   "metadata": {
    "scrolled": true
   },
   "outputs": [
    {
     "name": "stdout",
     "output_type": "stream",
     "text": [
      "20 palavras mais frequentes: [('aurélia', 623), ('seixas', 457), ('moça', 270), ('marido', 216), ('ainda', 168), ('mulher', 167), ('casa', 144), ('havia', 137), ('fernando', 131), ('amor', 121), ('disse', 116), ('lemos', 111), ('senhor', 111), ('alma', 110), ('tempo', 110), ('casamento', 109), ('noite', 109), ('senhora', 102), ('onde', 102), ('pois', 100)]\n"
     ]
    }
   ],
   "source": [
    "print(f\"20 palavras mais frequentes: {freq}\")"
   ]
  },
  {
   "cell_type": "code",
   "execution_count": 12,
   "metadata": {
    "scrolled": true
   },
   "outputs": [
    {
     "name": "stdout",
     "output_type": "stream",
     "text": [
      "Palavra mais frequente: aurélia - 623 vezes\n"
     ]
    }
   ],
   "source": [
    "print(f\"Palavra mais frequente: {dist.max()} - {dist[dist.max()]} vezes\")"
   ]
  },
  {
   "cell_type": "code",
   "execution_count": 13,
   "metadata": {
    "scrolled": true
   },
   "outputs": [
    {
     "name": "stdout",
     "output_type": "stream",
     "text": [
      "Colocações significantes: \n",
      "\n",
      "que lhe; estas palavras; pedro camargo; dia seguinte; sua alma;\n",
      "torquato ribeiro; câmara nupcial; santa teresa; dr. torquato; por\n",
      "isso; muitas vezes; primeira vez; cem contos; ainda mais; eduardo\n",
      "abreu; que não; que ela; nesse momento; nos lábios; não lhe\n"
     ]
    }
   ],
   "source": [
    "print(\"Colocações significantes: \\n\")\n",
    "text.collocations()"
   ]
  },
  {
   "cell_type": "code",
   "execution_count": 14,
   "metadata": {
    "scrolled": false
   },
   "outputs": [
    {
     "name": "stdout",
     "output_type": "stream",
     "text": [
      "Displaying 25 of 25 matches:\n",
      "o diamante . quem não se recorda da aurélia camargo , que atravessou o firmamen\n",
      "e que usam vesti-la os noveleiros . aurélia era órfã ; e tinha em sua companhia\n",
      "mo entendesse . constava também que aurélia tinha um tutor ; mas essa entidade \n",
      "sputavam como o prêmio da vitória , aurélia , com sagacidade admirável em sua i\n",
      "ria nela a verdadeira fisionomia de aurélia , e sim a máscara de alguma profund\n",
      "didas reverberações de sua beleza , aurélia bem longe de inebriar-se da adoraçã\n",
      "ão . as revoltas mais impetuosas de aurélia eram justamente contra a riqueza qu\n",
      "retendiam unicamente pela riqueza , aurélia reagia contra essa afronta , aplica\n",
      "netário . em linguagem financeira , aurélia cotava os seus adoradores pelo preç\n",
      " um moço muito distinto , respondeu aurélia sorrindo ; vale bem como noivo cem \n",
      "sse . riam-se todos destes ditos de aurélia , e os lançavam à conta de gracinha\n",
      "nas bem-educadas . os adoradores de aurélia sabiam , pois ela não fazia mistéri\n",
      "a não verem o frio escárnio com que aurélia os ludibriava nestes brincos ridícu\n",
      " a cabeça do rol . não acompanharei aurélia em sua efêmera passagem pelos salõe\n",
      "vidade do nimbo o gracioso busto de aurélia sobre o aveludado escarlate do pape\n",
      "piradas por esses anjos de exílio . aurélia concentra-se de todo dentro de si ;\n",
      "as , a senhora que exercia junto de aurélia o ofício de guarda-moça . a viúva a\n",
      "a distração em que estava absorta . aurélia correu a vista surpresa pelo aposen\n",
      " sem tirar os olhos do semblante de aurélia , onde espiava o efeito de suas pal\n",
      "ma cousa , d. firmina ! - o que é , aurélia ? - mas há de ser franca . promete-\n",
      " a amaralzinha ou eu ? disse afinal aurélia , empalidecendo de leve . - ora , o\n",
      "diu a viúva a rir . está zombando , aurélia . pois , a amaralzinha é para se co\n",
      "do agora . - é tão elegante ! disse aurélia como se completasse uma reflexão ín\n",
      "educada do que eu ? - do que você , aurélia ? há de ser difícil que se encontre\n",
      "á de ser assim ? quando você quer , aurélia , fala que parece uma novela . - já\n"
     ]
    }
   ],
   "source": [
    "ea.context(text, dist)"
   ]
  },
  {
   "cell_type": "code",
   "execution_count": 15,
   "metadata": {
    "scrolled": true
   },
   "outputs": [],
   "source": [
    "wordList, emotionList = ea.emolex()"
   ]
  },
  {
   "cell_type": "code",
   "execution_count": 16,
   "metadata": {
    "scrolled": true
   },
   "outputs": [],
   "source": [
    "emoList = ea.newList(emotionList, filtered)"
   ]
  },
  {
   "cell_type": "code",
   "execution_count": 17,
   "metadata": {
    "scrolled": true
   },
   "outputs": [],
   "source": [
    "emotionCounts = ea.generate_count(wordList, filtered)"
   ]
  },
  {
   "cell_type": "code",
   "execution_count": 18,
   "metadata": {
    "scrolled": true
   },
   "outputs": [
    {
     "data": {
      "text/plain": [
       "[('positivo', 3009),\n",
       " ('confiança', 1796),\n",
       " ('negativo', 1657),\n",
       " ('antecipação', 1552),\n",
       " ('alegria', 1428),\n",
       " ('tristeza', 1009),\n",
       " ('medo', 936),\n",
       " ('raiva', 721),\n",
       " ('surpresa', 585),\n",
       " ('nojo', 559)]"
      ]
     },
     "execution_count": 18,
     "metadata": {},
     "output_type": "execute_result"
    }
   ],
   "source": [
    "emotionCounts.most_common()"
   ]
  },
  {
   "cell_type": "code",
   "execution_count": 19,
   "metadata": {
    "scrolled": true
   },
   "outputs": [],
   "source": [
    "wordCounts = ea.generate_count(emoList, filtered)"
   ]
  },
  {
   "cell_type": "code",
   "execution_count": 20,
   "metadata": {
    "scrolled": true
   },
   "outputs": [
    {
     "data": {
      "text/plain": [
       "[('amor', 2178),\n",
       " ('casamento', 1199),\n",
       " ('senhor', 666),\n",
       " ('doce', 660),\n",
       " ('boa', 600),\n",
       " ('liberdade', 600),\n",
       " ('surpresa', 589),\n",
       " ('dinheiro', 539),\n",
       " ('corte', 480),\n",
       " ('segredo', 460),\n",
       " ('destino', 456),\n",
       " ('deus', 448),\n",
       " ('moral', 420),\n",
       " ('sorte', 416),\n",
       " ('canto', 390),\n",
       " ('verdade', 385),\n",
       " ('riqueza', 374),\n",
       " ('peso', 360),\n",
       " ('santa', 360),\n",
       " ('trabalho', 360)]"
      ]
     },
     "execution_count": 20,
     "metadata": {},
     "output_type": "execute_result"
    }
   ],
   "source": [
    "wordCounts.most_common(20)"
   ]
  },
  {
   "cell_type": "code",
   "execution_count": 21,
   "metadata": {
    "scrolled": false
   },
   "outputs": [
    {
     "name": "stdout",
     "output_type": "stream",
     "text": [
      "amor\n",
      "['positivo', 'antecipação', 'alegria', 'tristeza', 'confiança']\n",
      "------------------------------------\n",
      "casamento\n",
      "['positivo', 'antecipação', 'alegria', 'confiança']\n",
      "------------------------------------\n",
      "senhor\n",
      "['positivo', 'confiança']\n",
      "------------------------------------\n",
      "doce\n",
      "['positivo', 'antecipação', 'alegria', 'surpresa', 'confiança']\n",
      "------------------------------------\n",
      "boa\n",
      "['positivo', 'alegria', 'surpresa', 'confiança']\n",
      "------------------------------------\n",
      "liberdade\n",
      "['positivo', 'antecipação', 'alegria', 'surpresa', 'confiança']\n",
      "------------------------------------\n",
      "surpresa\n",
      "['positivo', 'medo', 'alegria', 'surpresa']\n",
      "------------------------------------\n",
      "dinheiro\n",
      "['positivo', 'antecipação', 'alegria', 'confiança']\n",
      "------------------------------------\n",
      "corte\n",
      "['negativo', 'raiva', 'nojo', 'medo', 'tristeza']\n",
      "------------------------------------\n",
      "segredo\n",
      "['surpresa', 'confiança']\n",
      "------------------------------------\n",
      "destino\n",
      "['positivo', 'antecipação', 'medo', 'alegria', 'tristeza', 'surpresa']\n",
      "------------------------------------\n",
      "deus\n",
      "['positivo', 'antecipação', 'medo', 'alegria', 'confiança']\n",
      "------------------------------------\n",
      "moral\n",
      "['positivo', 'antecipação', 'alegria', 'surpresa', 'confiança']\n",
      "------------------------------------\n",
      "sorte\n",
      "['positivo', 'antecipação', 'alegria', 'surpresa']\n",
      "------------------------------------\n",
      "canto\n",
      "['positivo', 'antecipação', 'alegria', 'surpresa']\n",
      "------------------------------------\n",
      "verdade\n",
      "['positivo', 'alegria', 'confiança']\n",
      "------------------------------------\n",
      "riqueza\n",
      "['positivo', 'alegria', 'confiança']\n",
      "------------------------------------\n",
      "peso\n",
      "['positivo', 'negativo', 'antecipação', 'nojo', 'medo', 'alegria', 'tristeza', 'surpresa', 'confiança']\n",
      "------------------------------------\n",
      "santa\n",
      "['positivo', 'antecipação', 'alegria', 'surpresa', 'confiança']\n",
      "------------------------------------\n",
      "trabalho\n",
      "['positivo', 'antecipação', 'alegria', 'surpresa', 'confiança']\n",
      "------------------------------------\n"
     ]
    }
   ],
   "source": [
    "for w in wordCounts.most_common(20):\n",
    "    print(w[0])\n",
    "    print(wordList[w[0]])\n",
    "    print('------------------------------------')"
   ]
  },
  {
   "cell_type": "markdown",
   "metadata": {},
   "source": [
    "# Testes"
   ]
  },
  {
   "cell_type": "code",
   "execution_count": 22,
   "metadata": {
    "scrolled": true
   },
   "outputs": [],
   "source": [
    "import nltk\n",
    "from collections import OrderedDict, defaultdict, Counter\n",
    "import numpy as np"
   ]
  },
  {
   "cell_type": "code",
   "execution_count": 23,
   "metadata": {
    "scrolled": true
   },
   "outputs": [
    {
     "name": "stdout",
     "output_type": "stream",
     "text": [
      "Displaying 25 of 25 matches:\n",
      " velho batendo a cabeça . - de meu casamento ! disse aurélia com a maior frieza\n",
      "as possui alguma cousa ; ajustou o casamento da filha adelaide com um moço que \n",
      "eciso quanto antes desmanchar este casamento . a adelaide deve casar com o dr. \n",
      "rate agora dos preparativos para o casamento que está justo há perto de um ano \n",
      "cebo ! exclamou o velho rindo . um casamento romântico . - não , senhor ; nada \n",
      "ial , ia passando sem esperança de casamento , não era ela , mas a mãe , d. cam\n",
      " um momento para outro arranjar um casamento vantajoso , como tinham conseguido\n",
      "a uma razão sólida para rejeitar o casamento proposto , não vira lemos na prime\n",
      " - um dote de cem contos no ato do casamento , é isto ? - resta-me conhecer a p\n",
      "to ao dote , depois de realizado o casamento , este sim , garanto . - não pode \n",
      "; fernando concordou com prazer no casamento . - já era tempo , disse a boa sen\n",
      " ao canto . a ruptura do ajuste de casamento , que em outra circunstância porve\n",
      "qual o marido devia logo depois do casamento mandar para o colégio . tão depres\n",
      " bem , o modo por que ajustara seu casamento não era nenhuma novidade ; todos o\n",
      "ncia , fizera que desse projeto de casamento de razão surtisse um enlace de amo\n",
      "vamos concluir o negócio . isto de casamento é como a sopa ; não se deixa es-fr\n",
      " do costume . a notícia do próximo casamento de aurélia produziu na sociedade f\n",
      "derradeira esperança . o projetado casamento podia desfazer-se por qualquer mot\n",
      "efletida . desde que anunciou-se o casamento , começou a moça a aparecer mais r\n",
      "vos a fazer , para a celebração do casamento , e esses , apressou-os o dinheiro\n",
      "ão muito numerosa para assistir ao casamento . a moça não aceitou a idéia de da\n",
      "m a aurélia a lembrança de fazer o casamento à moda européia , com o romantismo\n",
      "e sua obscuridade para assistir ao casamento do seu fernando , e sentindo-se de\n",
      "o . dois anos antes deste singular casamento , residia à rua de santa teresa um\n",
      "estudante , animou-se a pedi-la em casamento . vivia emília na companhia do sr.\n"
     ]
    }
   ],
   "source": [
    "text.concordance(\"casamento\")"
   ]
  },
  {
   "cell_type": "code",
   "execution_count": 24,
   "metadata": {
    "scrolled": false
   },
   "outputs": [
    {
     "name": "stdout",
     "output_type": "stream",
     "text": [
      "marido amor coração moço braço que homem espírito olhar ouro papel\n",
      "baile velho lemos dia tempo dinheiro pensamento gesto senhor\n"
     ]
    }
   ],
   "source": [
    "text.similar(\"casamento\")"
   ]
  },
  {
   "cell_type": "code",
   "execution_count": 25,
   "metadata": {
    "scrolled": true
   },
   "outputs": [
    {
     "name": "stdout",
     "output_type": "stream",
     "text": [
      "de_e de_o de_a de_com que_a de_sua de_no de_se de_na\n",
      "perguntou_sorrindo de_em de_uma a_a a_e tornou_com de_não de_que\n",
      "de_mas que_deixara a_um\n"
     ]
    }
   ],
   "source": [
    "text.common_contexts([freq[0][0], freq[1][0]])"
   ]
  },
  {
   "cell_type": "code",
   "execution_count": 27,
   "metadata": {
    "scrolled": true
   },
   "outputs": [
    {
     "data": {
      "image/png": "[encoded data removed]",
      "text/plain": [
       "<Figure size 432x288 with 1 Axes>"
      ]
     },
     "metadata": {
      "needs_background": "light"
     },
     "output_type": "display_data"
    }
   ],
   "source": [
    "sortedToken = sorted(list(set(filtered)), key=lambda token: dist[token], reverse=True)\n",
    "text.dispersion_plot(sortedToken[:6])"
   ]
  },
  {
   "cell_type": "code",
   "execution_count": 28,
   "metadata": {
    "scrolled": true
   },
   "outputs": [
    {
     "data": {
      "image/png": "[encoded data removed]",
      "text/plain": [
       "<Figure size 432x288 with 1 Axes>"
      ]
     },
     "metadata": {
      "needs_background": "light"
     },
     "output_type": "display_data"
    }
   ],
   "source": [
    "wordArray = np.asarray(wordCounts.most_common(5))\n",
    "wordArray = [i[0] for i in wordArray]\n",
    "text.dispersion_plot(wordArray)"
   ]
  },
  {
   "cell_type": "markdown",
   "metadata": {},
   "source": [
    "## Tratar negação"
   ]
  },
  {
   "cell_type": "code",
   "execution_count": 29,
   "metadata": {
    "scrolled": false
   },
   "outputs": [],
   "source": [
    "def filter(tokens):\n",
    "    stopwords = nltk.corpus.stopwords.words('portuguese')\n",
    "    stopwords = [s for s in stopwords if s != 'não']\n",
    "    \n",
    "    \n",
    "    filtered = [t for t in tokens \n",
    "                if t not in stopwords \n",
    "                and t.isalpha() \n",
    "                and len(t) > 1]\n",
    "    return filtered"
   ]
  },
  {
   "cell_type": "code",
   "execution_count": 30,
   "metadata": {},
   "outputs": [],
   "source": [
    "new_tokens = filter(tokens)"
   ]
  },
  {
   "cell_type": "code",
   "execution_count": 61,
   "metadata": {},
   "outputs": [],
   "source": [
    "def generate_count():\n",
    "    emoCount = Counter()\n",
    "    t = new_tokens\n",
    "    for i in range(len(new_tokens) - 1):\n",
    "        if len(wordList[t[i]]) > 0:\n",
    "            if t[i-1] == 'não':\n",
    "                wordList[t[i]] = revert_emotion(wordList[t[i]])\n",
    "            emoCount += Counter(wordList[t[i]])\n",
    "    return emoCount"
   ]
  },
  {
   "cell_type": "code",
   "execution_count": 58,
   "metadata": {},
   "outputs": [],
   "source": [
    "def revert_emotion(wordList):\n",
    "    newList = []\n",
    "    for w in wordList:\n",
    "        if w == 'positivo':\n",
    "            newList.append('negativo')\n",
    "        elif w == 'negativo':\n",
    "            newList.append('positivo')\n",
    "        elif w == 'alegria':\n",
    "            newList.append('tristeza')\n",
    "        elif w == 'tristeza':\n",
    "            newList.append('alegria')\n",
    "        elif w == 'antecipação':\n",
    "            newList.append('surpresa')\n",
    "        elif w == 'surpresa':\n",
    "            newList.append('antecipação')\n",
    "        elif w == 'medo':\n",
    "            newList.append('raiva')\n",
    "        elif w == 'raiva':\n",
    "            newList.append('medo')\n",
    "        elif w == 'nojo':\n",
    "            newList.append('confiança')\n",
    "        elif w == 'confiança':\n",
    "            newList.append('nojo')\n",
    "    return newList"
   ]
  },
  {
   "cell_type": "code",
   "execution_count": 62,
   "metadata": {},
   "outputs": [
    {
     "data": {
      "text/plain": [
       "Counter({'positivo': 2881,\n",
       "         'antecipação': 1414,\n",
       "         'alegria': 1412,\n",
       "         'confiança': 1593,\n",
       "         'negativo': 1785,\n",
       "         'raiva': 738,\n",
       "         'nojo': 762,\n",
       "         'medo': 919,\n",
       "         'tristeza': 1025,\n",
       "         'surpresa': 723})"
      ]
     },
     "execution_count": 62,
     "metadata": {},
     "output_type": "execute_result"
    }
   ],
   "source": [
    "newCounts = generate_count()\n",
    "newCounts"
   ]
  },
  {
   "cell_type": "code",
   "execution_count": null,
   "metadata": {
    "scrolled": true
   },
   "outputs": [],
   "source": [
    "for i in range(len(new_tokens) - 1):\n",
    "    if new_tokens[i] == 'não':\n",
    "        new_tokens[i:i+2] = [' '.join(new_tokens[i:i+2])]"
   ]
  },
  {
   "cell_type": "markdown",
   "metadata": {},
   "source": [
    "## Tratar plural"
   ]
  },
  {
   "cell_type": "code",
   "execution_count": null,
   "metadata": {
    "scrolled": true
   },
   "outputs": [],
   "source": [
    "import re\n",
    "s = re.compile('s$')\n",
    "oes = re.compile('ões$|ãos$|ães$')\n",
    "res = re.compile('res$')\n",
    "zes = re.compile('zes$')\n",
    "ses = re.compile('ses$')\n",
    "ais = re.compile('ais$')\n",
    "eis = re.compile('éis$')\n",
    "ois = re.compile('óis$')\n",
    "uis = re.compile('uis$')\n",
    "eis = re.compile('is$|eis$')\n",
    "ns = re.compile('ns$')\n",
    "nes = re.compile('nes$')"
   ]
  },
  {
   "cell_type": "code",
   "execution_count": null,
   "metadata": {
    "scrolled": true
   },
   "outputs": [],
   "source": [
    "def singularize(tokens):\n",
    "    new_t = []\n",
    "    \n",
    "    for t in tokens:\n",
    "        if t.endswith('ões') | t.endswith('ãos') | t.endswith('ães') :\n",
    "            new_t.append(re.sub(oes, 'ão', t))\n",
    "        elif t.endswith('res'):\n",
    "            new_t.append(re.sub(res, 'r', t))\n",
    "        elif t.endswith('zes'):\n",
    "            new_t.append(re.sub(zes, 'z', t))\n",
    "        elif t.endswith('ses'):\n",
    "            new_t.append(re.sub(ses, 's', t))\n",
    "        elif t.endswith('ais'):\n",
    "            new_t.append(re.sub(ais, 'al', t))\n",
    "        elif t.endswith('éis'):\n",
    "            new_t.append(re.sub(eis, 'el', t))\n",
    "        elif t.endswith('óis'):\n",
    "            new_t.append(re.sub(ois, 'ol', t))\n",
    "        elif t.endswith('uis'):\n",
    "            new_t.append(re.sub(uis, 'ul', t))\n",
    "        elif t.endswith('is') | t.endswith('eis') :\n",
    "            new_t.append(re.sub(eis, 'il', t))\n",
    "        elif t.endswith('ns'):\n",
    "            new_t.append(re.sub(ns, 'm', t))\n",
    "        elif t.endswith('nes'):\n",
    "            new_t.append(re.sub(nes, 'n', t))\n",
    "        elif t.endswith('s'):\n",
    "            new_t.append(re.sub(s, '', t))\n",
    "        else:\n",
    "            new_t.append(t)\n",
    "            \n",
    "    return new_t"
   ]
  },
  {
   "cell_type": "code",
   "execution_count": null,
   "metadata": {
    "scrolled": true
   },
   "outputs": [],
   "source": [
    "singular = singularize(new_tokens)"
   ]
  },
  {
   "cell_type": "markdown",
   "metadata": {},
   "source": [
    "## Tratar gênero dos adjetivos"
   ]
  },
  {
   "cell_type": "code",
   "execution_count": null,
   "metadata": {},
   "outputs": [],
   "source": [
    "#tree"
   ]
  },
  {
   "cell_type": "markdown",
   "metadata": {},
   "source": [
    "## Tratar verbos"
   ]
  },
  {
   "cell_type": "code",
   "execution_count": null,
   "metadata": {},
   "outputs": [],
   "source": []
  }
 ],
 "metadata": {
  "kernelspec": {
   "display_name": "Python 3",
   "language": "python",
   "name": "python3"
  },
  "language_info": {
   "codemirror_mode": {
    "name": "ipython",
    "version": 3
   },
   "file_extension": ".py",
   "mimetype": "text/x-python",
   "name": "python",
   "nbconvert_exporter": "python",
   "pygments_lexer": "ipython3",
   "version": "3.7.0"
  }
 },
 "nbformat": 4,
 "nbformat_minor": 2
}
