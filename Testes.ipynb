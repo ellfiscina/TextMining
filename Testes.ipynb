{
 "cells": [
  {
   "cell_type": "code",
   "execution_count": 1,
   "metadata": {
    "scrolled": true
   },
   "outputs": [
    {
     "name": "stdout",
     "output_type": "stream",
     "text": [
      "Importing Jupyter notebook from Convert_NRC.ipynb\n",
      "Importing Jupyter notebook from /home/ellen/Documentos/TextMining/header/EmotionAnalysis.ipynb\n"
     ]
    }
   ],
   "source": [
    "import nbimporter\n",
    "import pandas as pd\n",
    "import Convert_NRC as nrc\n",
    "from header import EmotionAnalysis as ea"
   ]
  },
  {
   "cell_type": "code",
   "execution_count": 2,
   "metadata": {
    "scrolled": true
   },
   "outputs": [
    {
     "data": {
      "text/plain": [
       "'File exists'"
      ]
     },
     "execution_count": 2,
     "metadata": {},
     "output_type": "execute_result"
    }
   ],
   "source": [
    "nrc.create_emolex()"
   ]
  },
  {
   "cell_type": "markdown",
   "metadata": {},
   "source": [
    "## Original"
   ]
  },
  {
   "cell_type": "code",
   "execution_count": 3,
   "metadata": {
    "scrolled": true
   },
   "outputs": [],
   "source": [
    "filepath = 'books/senhora.txt'"
   ]
  },
  {
   "cell_type": "code",
   "execution_count": 58,
   "metadata": {
    "scrolled": true
   },
   "outputs": [],
   "source": [
    "raw = ea.open_file(filepath)"
   ]
  },
  {
   "cell_type": "code",
   "execution_count": 68,
   "metadata": {
    "scrolled": true
   },
   "outputs": [],
   "source": [
    "tokens = ea.tokenize(raw)"
   ]
  },
  {
   "cell_type": "code",
   "execution_count": 6,
   "metadata": {
    "scrolled": true
   },
   "outputs": [],
   "source": [
    "filtered = ea.filter(tokens)"
   ]
  },
  {
   "cell_type": "code",
   "execution_count": 7,
   "metadata": {
    "scrolled": true
   },
   "outputs": [],
   "source": [
    "text = ea.convert_to_text(tokens)"
   ]
  },
  {
   "cell_type": "code",
   "execution_count": 8,
   "metadata": {
    "scrolled": true
   },
   "outputs": [],
   "source": [
    "dist = ea.tokens_frequency(filtered)"
   ]
  },
  {
   "cell_type": "code",
   "execution_count": 9,
   "metadata": {
    "scrolled": true
   },
   "outputs": [],
   "source": [
    "#ea.info(tokens, filtered)"
   ]
  },
  {
   "cell_type": "code",
   "execution_count": 10,
   "metadata": {
    "scrolled": true
   },
   "outputs": [],
   "source": [
    "freq = ea.most_frequent(filtered, dist, 20)"
   ]
  },
  {
   "cell_type": "code",
   "execution_count": 11,
   "metadata": {
    "scrolled": true
   },
   "outputs": [],
   "source": [
    "#print(f\"20 palavras mais frequentes: {freq}\")"
   ]
  },
  {
   "cell_type": "code",
   "execution_count": 12,
   "metadata": {
    "scrolled": true
   },
   "outputs": [],
   "source": [
    "#print(f\"Palavra mais frequente: {dist.max()} - {dist[dist.max()]} vezes\")"
   ]
  },
  {
   "cell_type": "code",
   "execution_count": 13,
   "metadata": {
    "scrolled": true
   },
   "outputs": [],
   "source": [
    "#print(\"Colocações significantes: \\n\")\n",
    "#text.collocations()"
   ]
  },
  {
   "cell_type": "code",
   "execution_count": 14,
   "metadata": {
    "scrolled": false
   },
   "outputs": [],
   "source": [
    "#ea.context(text, dist)"
   ]
  },
  {
   "cell_type": "code",
   "execution_count": 15,
   "metadata": {
    "scrolled": true
   },
   "outputs": [],
   "source": [
    "wordList, emotionList = ea.emolex()"
   ]
  },
  {
   "cell_type": "code",
   "execution_count": 16,
   "metadata": {
    "scrolled": true
   },
   "outputs": [],
   "source": [
    "emoList = ea.newList(emotionList, filtered)"
   ]
  },
  {
   "cell_type": "code",
   "execution_count": 17,
   "metadata": {
    "scrolled": true
   },
   "outputs": [],
   "source": [
    "emotionCounts = ea.generate_count(wordList, filtered)"
   ]
  },
  {
   "cell_type": "code",
   "execution_count": 18,
   "metadata": {
    "scrolled": true
   },
   "outputs": [
    {
     "data": {
      "text/plain": [
       "[('positivo', 4357),\n",
       " ('confiança', 2552),\n",
       " ('negativo', 2373),\n",
       " ('antecipação', 2002),\n",
       " ('alegria', 1796),\n",
       " ('tristeza', 1469),\n",
       " ('medo', 1312),\n",
       " ('raiva', 1011),\n",
       " ('surpresa', 789),\n",
       " ('nojo', 752)]"
      ]
     },
     "execution_count": 18,
     "metadata": {},
     "output_type": "execute_result"
    }
   ],
   "source": [
    "emotionCounts.most_common()"
   ]
  },
  {
   "cell_type": "code",
   "execution_count": 19,
   "metadata": {
    "scrolled": true
   },
   "outputs": [],
   "source": [
    "wordCounts = ea.generate_count(emoList, filtered)"
   ]
  },
  {
   "cell_type": "code",
   "execution_count": 20,
   "metadata": {
    "scrolled": false
   },
   "outputs": [
    {
     "data": {
      "text/plain": [
       "[('amor', 2178),\n",
       " ('moça', 1620),\n",
       " ('mãe', 1260),\n",
       " ('casamento', 1199),\n",
       " ('esperança', 690),\n",
       " ('senhor', 666),\n",
       " ('doce', 660),\n",
       " ('boa', 600),\n",
       " ('liberdade', 600),\n",
       " ('surpresa', 589),\n",
       " ('dinheiro', 539),\n",
       " ('corte', 480),\n",
       " ('paixão', 462),\n",
       " ('segredo', 460),\n",
       " ('destino', 456),\n",
       " ('deus', 448),\n",
       " ('moral', 420),\n",
       " ('sorte', 416),\n",
       " ('canto', 390),\n",
       " ('verdade', 385)]"
      ]
     },
     "execution_count": 20,
     "metadata": {},
     "output_type": "execute_result"
    }
   ],
   "source": [
    "wordCounts.most_common(20)"
   ]
  },
  {
   "cell_type": "code",
   "execution_count": 21,
   "metadata": {
    "scrolled": true
   },
   "outputs": [
    {
     "name": "stdout",
     "output_type": "stream",
     "text": [
      "amor\n",
      "['positivo', 'antecipação', 'alegria', 'tristeza', 'confiança']\n",
      "------------------------------------\n",
      "moça\n",
      "['positivo', 'confiança']\n",
      "------------------------------------\n",
      "mãe\n",
      "['positivo', 'negativo', 'antecipação', 'alegria', 'tristeza', 'confiança']\n",
      "------------------------------------\n",
      "casamento\n",
      "['positivo', 'antecipação', 'alegria', 'confiança']\n",
      "------------------------------------\n",
      "esperança\n",
      "['positivo', 'antecipação', 'alegria', 'surpresa', 'confiança']\n",
      "------------------------------------\n",
      "senhor\n",
      "['positivo', 'confiança']\n",
      "------------------------------------\n",
      "doce\n",
      "['positivo', 'antecipação', 'alegria', 'surpresa', 'confiança']\n",
      "------------------------------------\n",
      "boa\n",
      "['positivo', 'alegria', 'surpresa', 'confiança']\n",
      "------------------------------------\n",
      "liberdade\n",
      "['positivo', 'antecipação', 'alegria', 'surpresa', 'confiança']\n",
      "------------------------------------\n",
      "surpresa\n",
      "['positivo', 'medo', 'alegria', 'surpresa']\n",
      "------------------------------------\n",
      "dinheiro\n",
      "['positivo', 'antecipação', 'alegria', 'confiança']\n",
      "------------------------------------\n",
      "corte\n",
      "['negativo', 'raiva', 'nojo', 'medo', 'tristeza']\n",
      "------------------------------------\n",
      "paixão\n",
      "['positivo', 'antecipação', 'alegria', 'confiança']\n",
      "------------------------------------\n",
      "segredo\n",
      "['surpresa', 'confiança']\n",
      "------------------------------------\n",
      "destino\n",
      "['positivo', 'antecipação', 'medo', 'alegria', 'tristeza', 'surpresa']\n",
      "------------------------------------\n",
      "deus\n",
      "['positivo', 'antecipação', 'medo', 'alegria', 'confiança']\n",
      "------------------------------------\n",
      "moral\n",
      "['positivo', 'antecipação', 'alegria', 'surpresa', 'confiança']\n",
      "------------------------------------\n",
      "sorte\n",
      "['positivo', 'antecipação', 'alegria', 'surpresa']\n",
      "------------------------------------\n",
      "canto\n",
      "['positivo', 'antecipação', 'alegria', 'surpresa']\n",
      "------------------------------------\n",
      "verdade\n",
      "['positivo', 'alegria', 'confiança']\n",
      "------------------------------------\n"
     ]
    }
   ],
   "source": [
    "for w in wordCounts.most_common(20):\n",
    "    print(w[0])\n",
    "    print(wordList[w[0]])\n",
    "    print('------------------------------------')"
   ]
  },
  {
   "cell_type": "markdown",
   "metadata": {},
   "source": [
    "# Testes"
   ]
  },
  {
   "cell_type": "code",
   "execution_count": 22,
   "metadata": {
    "scrolled": true
   },
   "outputs": [],
   "source": [
    "import nltk\n",
    "from collections import OrderedDict, defaultdict, Counter\n",
    "import numpy as np\n",
    "from nltk.tokenize import sent_tokenize, word_tokenize"
   ]
  },
  {
   "cell_type": "code",
   "execution_count": 23,
   "metadata": {
    "scrolled": true
   },
   "outputs": [
    {
     "name": "stdout",
     "output_type": "stream",
     "text": [
      "Displaying 25 of 25 matches:\n",
      " velho batendo a cabeça . - de meu casamento ! disse aurélia com a maior frieza\n",
      "as possui alguma cousa ; ajustou o casamento da filha adelaide com um moço que \n",
      "eciso quanto antes desmanchar este casamento . a adelaide deve casar com o dr. \n",
      "rate agora dos preparativos para o casamento que está justo há perto de um ano \n",
      "cebo ! exclamou o velho rindo . um casamento romântico . - não , senhor ; nada \n",
      "ial , ia passando sem esperança de casamento , não era ela , mas a mãe , d. cam\n",
      " um momento para outro arranjar um casamento vantajoso , como tinham conseguido\n",
      "a uma razão sólida para rejeitar o casamento proposto , não vira lemos na prime\n",
      " - um dote de cem contos no ato do casamento , é isto ? - resta-me conhecer a p\n",
      "to ao dote , depois de realizado o casamento , este sim , garanto . - não pode \n",
      "; fernando concordou com prazer no casamento . - já era tempo , disse a boa sen\n",
      " ao canto . a ruptura do ajuste de casamento , que em outra circunstância porve\n",
      "qual o marido devia logo depois do casamento mandar para o colégio . tão depres\n",
      " bem , o modo por que ajustara seu casamento não era nenhuma novidade ; todos o\n",
      "ncia , fizera que desse projeto de casamento de razão surtisse um enlace de amo\n",
      "vamos concluir o negócio . isto de casamento é como a sopa ; não se deixa es-fr\n",
      " do costume . a notícia do próximo casamento de aurélia produziu na sociedade f\n",
      "derradeira esperança . o projetado casamento podia desfazer-se por qualquer mot\n",
      "efletida . desde que anunciou-se o casamento , começou a moça a aparecer mais r\n",
      "vos a fazer , para a celebração do casamento , e esses , apressou-os o dinheiro\n",
      "ão muito numerosa para assistir ao casamento . a moça não aceitou a idéia de da\n",
      "m a aurélia a lembrança de fazer o casamento à moda européia , com o romantismo\n",
      "e sua obscuridade para assistir ao casamento do seu fernando , e sentindo-se de\n",
      "o . dois anos antes deste singular casamento , residia à rua de santa teresa um\n",
      "estudante , animou-se a pedi-la em casamento . vivia emília na companhia do sr.\n"
     ]
    }
   ],
   "source": [
    "text.concordance(\"casamento\")"
   ]
  },
  {
   "cell_type": "code",
   "execution_count": 24,
   "metadata": {
    "scrolled": false
   },
   "outputs": [
    {
     "name": "stdout",
     "output_type": "stream",
     "text": [
      "marido amor coração moço braço que homem espírito olhar ouro papel\n",
      "baile velho lemos dia tempo dinheiro pensamento gesto senhor\n"
     ]
    }
   ],
   "source": [
    "text.similar(\"casamento\")"
   ]
  },
  {
   "cell_type": "code",
   "execution_count": 25,
   "metadata": {
    "scrolled": true
   },
   "outputs": [
    {
     "name": "stdout",
     "output_type": "stream",
     "text": [
      "de_e de_o de_a de_com que_a de_sua de_no de_se de_na\n",
      "perguntou_sorrindo de_em de_uma a_a a_e tornou_com de_não de_que\n",
      "de_mas que_deixara a_um\n"
     ]
    }
   ],
   "source": [
    "text.common_contexts([freq[0][0], freq[1][0]])"
   ]
  },
  {
   "cell_type": "code",
   "execution_count": 26,
   "metadata": {
    "scrolled": true
   },
   "outputs": [
    {
     "data": {
      "text/plain": [
       "<Figure size 640x480 with 1 Axes>"
      ]
     },
     "metadata": {},
     "output_type": "display_data"
    }
   ],
   "source": [
    "sortedToken = sorted(list(set(filtered)), key=lambda token: dist[token], reverse=True)\n",
    "text.dispersion_plot(sortedToken[:6])"
   ]
  },
  {
   "cell_type": "code",
   "execution_count": 27,
   "metadata": {
    "scrolled": true
   },
   "outputs": [
    {
     "data": {
      "image/png": "[encoded data removed]",
      "text/plain": [
       "<Figure size 432x288 with 1 Axes>"
      ]
     },
     "metadata": {
      "needs_background": "light"
     },
     "output_type": "display_data"
    }
   ],
   "source": [
    "wordArray = np.asarray(wordCounts.most_common(5))\n",
    "wordArray = [i[0] for i in wordArray]\n",
    "text.dispersion_plot(wordArray)"
   ]
  },
  {
   "cell_type": "markdown",
   "metadata": {},
   "source": [
    "## Tratar plural"
   ]
  },
  {
   "cell_type": "code",
   "execution_count": 47,
   "metadata": {
    "scrolled": true
   },
   "outputs": [],
   "source": [
    "import re\n",
    "s = re.compile('s$')\n",
    "oes = re.compile('ões$|ãos$|ães$')\n",
    "res = re.compile('res$')\n",
    "zes = re.compile('zes$')\n",
    "ses = re.compile('ses$')\n",
    "ais = re.compile('ais$')\n",
    "eis = re.compile('éis$')\n",
    "ois = re.compile('óis$')\n",
    "uis = re.compile('uis$')\n",
    "eis = re.compile('is$|eis$')\n",
    "ns = re.compile('ns$')\n",
    "nes = re.compile('nes$')"
   ]
  },
  {
   "cell_type": "code",
   "execution_count": 48,
   "metadata": {
    "scrolled": true
   },
   "outputs": [],
   "source": [
    "def singularize(tokens):\n",
    "    new_t = []\n",
    "    \n",
    "    for t in tokens:\n",
    "        if t.endswith('ões') | t.endswith('ãos') | t.endswith('ães') :\n",
    "            new_t.append(re.sub(oes, 'ão', t))\n",
    "        elif t.endswith('res'):\n",
    "            new_t.append(re.sub(res, 'r', t))\n",
    "        elif t.endswith('zes'):\n",
    "            new_t.append(re.sub(zes, 'z', t))\n",
    "        elif t.endswith('ses'):\n",
    "            new_t.append(re.sub(ses, 's', t))\n",
    "        elif t.endswith('ais'):\n",
    "            new_t.append(re.sub(ais, 'al', t))\n",
    "        elif t.endswith('éis'):\n",
    "            new_t.append(re.sub(eis, 'el', t))\n",
    "        elif t.endswith('óis'):\n",
    "            new_t.append(re.sub(ois, 'ol', t))\n",
    "        elif t.endswith('uis'):\n",
    "            new_t.append(re.sub(uis, 'ul', t))\n",
    "        elif t.endswith('is') | t.endswith('eis') :\n",
    "            new_t.append(re.sub(eis, 'il', t))\n",
    "        elif t.endswith('ns'):\n",
    "            new_t.append(re.sub(ns, 'm', t))\n",
    "        elif t.endswith('nes'):\n",
    "            new_t.append(re.sub(nes, 'n', t))\n",
    "        elif t.endswith('s'):\n",
    "            new_t.append(re.sub(s, '', t))\n",
    "        else:\n",
    "            new_t.append(t)\n",
    "            \n",
    "    return new_t"
   ]
  },
  {
   "cell_type": "code",
   "execution_count": 49,
   "metadata": {
    "scrolled": true
   },
   "outputs": [],
   "source": [
    "singular = singularize(new_tokens)"
   ]
  },
  {
   "cell_type": "markdown",
   "metadata": {},
   "source": [
    "## Tratar negação"
   ]
  },
  {
   "cell_type": "code",
   "execution_count": 28,
   "metadata": {
    "scrolled": false
   },
   "outputs": [],
   "source": [
    "def filter(tokens):\n",
    "    stopwords = nltk.corpus.stopwords.words('portuguese')\n",
    "    stopwords = [s for s in stopwords if s != 'não']\n",
    "    \n",
    "    \n",
    "    filtered = [t for t in tokens \n",
    "                if t not in stopwords \n",
    "                and t.isalpha() \n",
    "                and len(t) > 1]\n",
    "    return filtered"
   ]
  },
  {
   "cell_type": "code",
   "execution_count": 29,
   "metadata": {},
   "outputs": [
    {
     "data": {
      "text/plain": [
       "['anos',\n",
       " 'raiou',\n",
       " 'céu',\n",
       " 'fluminense',\n",
       " 'nova',\n",
       " 'estrela',\n",
       " 'desde',\n",
       " 'momento',\n",
       " 'ascensão',\n",
       " 'ninguém',\n",
       " 'disputou',\n",
       " 'cetro',\n",
       " 'proclamada',\n",
       " 'rainha',\n",
       " 'salões',\n",
       " 'deusa',\n",
       " 'bailes',\n",
       " 'musa',\n",
       " 'poetas',\n",
       " 'ídolo',\n",
       " 'noivos',\n",
       " 'disponibilidade',\n",
       " 'rica',\n",
       " 'formosa',\n",
       " 'duas',\n",
       " 'opulências',\n",
       " 'realçam',\n",
       " 'flor',\n",
       " 'vaso',\n",
       " 'alabastro',\n",
       " 'dois',\n",
       " 'esplendores',\n",
       " 'refletem',\n",
       " 'raio',\n",
       " 'sol',\n",
       " 'prisma',\n",
       " 'diamante',\n",
       " 'não',\n",
       " 'recorda',\n",
       " 'aurélia',\n",
       " 'camargo',\n",
       " 'atravessou',\n",
       " 'firmamento',\n",
       " 'corte',\n",
       " 'brilhante',\n",
       " 'meteoro',\n",
       " 'repente',\n",
       " 'meio',\n",
       " 'deslumbramento',\n",
       " 'produzira',\n",
       " 'dezoito',\n",
       " 'anos',\n",
       " 'apareceu',\n",
       " 'primeira',\n",
       " 'vez',\n",
       " 'sociedade',\n",
       " 'não',\n",
       " 'conheciam',\n",
       " 'logo',\n",
       " 'buscaram',\n",
       " 'todos',\n",
       " 'avidez',\n",
       " 'informações',\n",
       " 'acerca',\n",
       " 'grande',\n",
       " 'novidade',\n",
       " 'dia',\n",
       " 'muita',\n",
       " 'coisa',\n",
       " 'não',\n",
       " 'repetirei',\n",
       " 'agora',\n",
       " 'pois',\n",
       " 'tempo',\n",
       " 'saberemos',\n",
       " 'verdade',\n",
       " 'comentos',\n",
       " 'malévolos',\n",
       " 'usam',\n",
       " 'noveleiros',\n",
       " 'aurélia',\n",
       " 'órfã',\n",
       " 'companhia',\n",
       " 'velha',\n",
       " 'parenta',\n",
       " 'viúva',\n",
       " 'firmina',\n",
       " 'mascarenhas',\n",
       " 'sempre',\n",
       " 'acompanhava',\n",
       " 'sociedade',\n",
       " 'parenta',\n",
       " 'não',\n",
       " 'passava',\n",
       " 'mãe',\n",
       " 'encomenda',\n",
       " 'condescender',\n",
       " 'escrúpulos',\n",
       " 'sociedade',\n",
       " 'brasileira',\n",
       " 'naquele',\n",
       " 'tempo',\n",
       " 'não',\n",
       " 'admitido',\n",
       " 'ainda',\n",
       " 'certa',\n",
       " 'emancipação',\n",
       " 'feminina',\n",
       " 'guardando',\n",
       " 'viúva',\n",
       " 'deferências',\n",
       " 'devidas',\n",
       " 'idade',\n",
       " 'moça',\n",
       " 'não',\n",
       " 'declinava',\n",
       " 'instante',\n",
       " 'firme',\n",
       " 'propósito',\n",
       " 'governar',\n",
       " 'casa',\n",
       " 'dirigir',\n",
       " 'ações',\n",
       " 'entendesse',\n",
       " 'constava',\n",
       " 'aurélia',\n",
       " 'tutor',\n",
       " 'entidade',\n",
       " 'desconhecida',\n",
       " 'julgar',\n",
       " 'caráter',\n",
       " 'pupila',\n",
       " 'não',\n",
       " 'devia',\n",
       " 'exercer',\n",
       " 'maior',\n",
       " 'influência',\n",
       " 'vontade',\n",
       " 'velha',\n",
       " 'convicção',\n",
       " 'geral',\n",
       " 'futuro',\n",
       " 'moça',\n",
       " 'dependia',\n",
       " 'exclusivamente',\n",
       " 'inclinações',\n",
       " 'capricho',\n",
       " 'todas',\n",
       " 'adorações',\n",
       " 'iam',\n",
       " 'prostrar',\n",
       " 'próprios',\n",
       " 'pés',\n",
       " 'ídolo',\n",
       " 'assaltada',\n",
       " 'turba',\n",
       " 'pretendentes',\n",
       " 'disputavam',\n",
       " 'prêmio',\n",
       " 'vitória',\n",
       " 'aurélia',\n",
       " 'sagacidade',\n",
       " 'admirável',\n",
       " 'idade',\n",
       " 'avaliou',\n",
       " 'situação',\n",
       " 'difícil',\n",
       " 'achava',\n",
       " 'perigos',\n",
       " 'ameaçavam',\n",
       " 'daí',\n",
       " 'provinha',\n",
       " 'talvez',\n",
       " 'expressão',\n",
       " 'cheia',\n",
       " 'desdém',\n",
       " 'certo',\n",
       " 'ar',\n",
       " 'provocador',\n",
       " 'eriçavam',\n",
       " 'beleza',\n",
       " 'aliás',\n",
       " 'tão',\n",
       " 'correta',\n",
       " 'cinzelada',\n",
       " 'meiga',\n",
       " 'serena',\n",
       " 'expansão',\n",
       " 'alma',\n",
       " 'lindo',\n",
       " 'semblante',\n",
       " 'não',\n",
       " 'impregnasse',\n",
       " 'constantemente',\n",
       " 'ainda',\n",
       " 'momentos',\n",
       " 'cisma',\n",
       " 'distração',\n",
       " 'dessa',\n",
       " 'tinta',\n",
       " 'sarcasmo',\n",
       " 'ninguém',\n",
       " 'veria',\n",
       " 'nela',\n",
       " 'verdadeira',\n",
       " 'fisionomia',\n",
       " 'aurélia',\n",
       " 'sim',\n",
       " 'máscara',\n",
       " 'alguma',\n",
       " 'profunda',\n",
       " 'decepção',\n",
       " 'acreditar',\n",
       " 'natureza',\n",
       " 'traçado',\n",
       " 'linhas',\n",
       " 'tão',\n",
       " 'puras',\n",
       " 'límpidas',\n",
       " 'daquele',\n",
       " 'perfil',\n",
       " 'harmonia',\n",
       " 'riso',\n",
       " 'pungente',\n",
       " 'ironia',\n",
       " 'olhos',\n",
       " 'grandes',\n",
       " 'rasgados',\n",
       " 'deus',\n",
       " 'não',\n",
       " 'aveludaria',\n",
       " 'inefável',\n",
       " 'ternura',\n",
       " 'destinasse',\n",
       " 'vibrar',\n",
       " 'chispas',\n",
       " 'escárnio',\n",
       " 'perfeição',\n",
       " 'estatuária',\n",
       " 'talhe',\n",
       " 'sílfide',\n",
       " 'vez',\n",
       " 'arfar',\n",
       " 'suave',\n",
       " 'influxo',\n",
       " 'amor',\n",
       " 'devia',\n",
       " 'ser',\n",
       " 'agitado',\n",
       " 'assomos',\n",
       " 'desprezo',\n",
       " 'sala',\n",
       " 'cercada',\n",
       " 'adoradores',\n",
       " 'meio',\n",
       " 'esplêndidas',\n",
       " 'reverberações',\n",
       " 'beleza',\n",
       " 'aurélia',\n",
       " 'bem',\n",
       " 'longe',\n",
       " 'adoração',\n",
       " 'produzida',\n",
       " 'formosura',\n",
       " 'culto',\n",
       " 'rendiam',\n",
       " 'contrário',\n",
       " 'parecia',\n",
       " 'unicamente',\n",
       " 'possuída',\n",
       " 'indignação',\n",
       " 'turba',\n",
       " 'vil',\n",
       " 'abjeta',\n",
       " 'não',\n",
       " 'triunfo',\n",
       " 'julgasse',\n",
       " 'digno',\n",
       " 'si',\n",
       " 'torpe',\n",
       " 'humilhação',\n",
       " 'dessa',\n",
       " 'gente',\n",
       " 'ante',\n",
       " 'riqueza',\n",
       " 'desafio',\n",
       " 'lançava',\n",
       " 'mundo',\n",
       " 'orgulhosa',\n",
       " 'sob',\n",
       " 'planta',\n",
       " 'réptil',\n",
       " 'venenoso',\n",
       " 'mundo',\n",
       " 'assim',\n",
       " 'feito',\n",
       " 'fulgor',\n",
       " 'satânico',\n",
       " 'beleza',\n",
       " 'dessa',\n",
       " 'mulher',\n",
       " 'maior',\n",
       " 'sedução',\n",
       " 'acerba',\n",
       " 'veemência',\n",
       " 'alma',\n",
       " 'revolta',\n",
       " 'abismos',\n",
       " 'paixão',\n",
       " 'procelas',\n",
       " 'volúpia',\n",
       " 'havia',\n",
       " 'ter',\n",
       " 'amor',\n",
       " 'virgem',\n",
       " 'bacante',\n",
       " 'sinistro',\n",
       " 'vislumbre',\n",
       " 'apagasse',\n",
       " 'súbito',\n",
       " 'deixando',\n",
       " 'formosa',\n",
       " 'estátua',\n",
       " 'penumbra',\n",
       " 'suave',\n",
       " 'candura',\n",
       " 'inocência',\n",
       " 'anjo',\n",
       " 'casto',\n",
       " 'puro',\n",
       " 'havia',\n",
       " 'naquela',\n",
       " 'todas',\n",
       " 'moças',\n",
       " 'talvez',\n",
       " 'passasse',\n",
       " 'desapercebido',\n",
       " 'turbilhão',\n",
       " 'revoltas',\n",
       " 'impetuosas',\n",
       " 'aurélia',\n",
       " 'justamente',\n",
       " 'contra',\n",
       " 'riqueza',\n",
       " 'servia',\n",
       " 'trono',\n",
       " 'nunca',\n",
       " 'certo',\n",
       " 'apesar',\n",
       " 'prendas',\n",
       " 'receberia',\n",
       " 'rainha',\n",
       " 'desdenhosa',\n",
       " 'vassalagem',\n",
       " 'rendiam',\n",
       " 'considerava',\n",
       " 'ouro',\n",
       " 'vil',\n",
       " 'metal',\n",
       " 'rebaixava',\n",
       " 'homens',\n",
       " 'íntimo',\n",
       " 'sentiase',\n",
       " 'profundamente',\n",
       " 'humilhada',\n",
       " 'pensando',\n",
       " 'toda',\n",
       " 'gente',\n",
       " 'cercava',\n",
       " 'pessoa',\n",
       " 'não',\n",
       " 'merecia',\n",
       " 'bajulações',\n",
       " 'tributavam',\n",
       " 'cada',\n",
       " 'mil',\n",
       " 'contos',\n",
       " 'réis',\n",
       " 'nunca',\n",
       " 'pena',\n",
       " 'algum',\n",
       " 'chatterton',\n",
       " 'desconhecido',\n",
       " 'saíram',\n",
       " 'cruciantes',\n",
       " 'apóstrofes',\n",
       " 'contra',\n",
       " 'dinheiro',\n",
       " 'vibrava',\n",
       " 'muitas',\n",
       " 'vezes',\n",
       " 'lábio',\n",
       " 'perfumado',\n",
       " 'dessa',\n",
       " 'feiticeira',\n",
       " 'menina',\n",
       " 'seio',\n",
       " 'opulência',\n",
       " 'traço',\n",
       " 'basta',\n",
       " 'sob',\n",
       " 'face',\n",
       " 'convencida',\n",
       " 'todos',\n",
       " 'inúmeros',\n",
       " 'apaixonados',\n",
       " 'exceção',\n",
       " 'pretendiam',\n",
       " 'unicamente',\n",
       " 'riqueza',\n",
       " 'aurélia',\n",
       " 'reagia',\n",
       " 'contra',\n",
       " 'afronta',\n",
       " 'aplicando',\n",
       " 'indivíduos',\n",
       " 'estalão',\n",
       " 'assim',\n",
       " 'costumava',\n",
       " 'indicar',\n",
       " 'merecimento',\n",
       " 'cada',\n",
       " 'pretendentes',\n",
       " 'certo',\n",
       " 'valor',\n",
       " 'monetário',\n",
       " 'linguagem',\n",
       " 'financeira',\n",
       " 'aurélia',\n",
       " 'cotava',\n",
       " 'adoradores',\n",
       " 'preço',\n",
       " 'razoavelmente',\n",
       " 'poderiam',\n",
       " 'obter',\n",
       " 'mercado',\n",
       " 'matrimonial',\n",
       " 'noite',\n",
       " 'cassino',\n",
       " 'lísia',\n",
       " 'soares',\n",
       " 'íntima',\n",
       " 'desejava',\n",
       " 'ardentemente',\n",
       " 'casada',\n",
       " 'gracejo',\n",
       " 'acerca',\n",
       " 'alfredo',\n",
       " 'moreira',\n",
       " 'rapaz',\n",
       " 'elegante',\n",
       " 'chegara',\n",
       " 'recentemente',\n",
       " 'europa',\n",
       " 'moço',\n",
       " 'distinto',\n",
       " 'respondeu',\n",
       " 'aurélia',\n",
       " 'sorrindo',\n",
       " 'vale',\n",
       " 'bem',\n",
       " 'noivo',\n",
       " 'cem',\n",
       " 'contos',\n",
       " 'réis',\n",
       " 'dinheiro',\n",
       " 'pagar',\n",
       " 'marido',\n",
       " 'maior',\n",
       " 'preço',\n",
       " 'lísia',\n",
       " 'não',\n",
       " 'contento',\n",
       " 'todos',\n",
       " 'destes',\n",
       " 'ditos',\n",
       " 'aurélia',\n",
       " 'lançavam',\n",
       " 'conta',\n",
       " 'gracinhas',\n",
       " 'moça',\n",
       " 'espirituosa',\n",
       " 'porém',\n",
       " 'maior',\n",
       " 'parte',\n",
       " 'senhoras',\n",
       " 'sobretudo',\n",
       " 'filhas',\n",
       " 'moças',\n",
       " 'não',\n",
       " 'cansavam',\n",
       " 'criticar',\n",
       " 'desses',\n",
       " 'modos',\n",
       " 'desenvoltos',\n",
       " 'impróprios',\n",
       " 'meninas',\n",
       " 'adoradores',\n",
       " 'aurélia',\n",
       " 'sabiam',\n",
       " 'pois',\n",
       " 'não',\n",
       " 'fazia',\n",
       " 'mistério',\n",
       " 'preço',\n",
       " 'cotação',\n",
       " 'rol',\n",
       " 'moça',\n",
       " 'longe',\n",
       " 'agastarem',\n",
       " 'franqueza',\n",
       " 'jogo',\n",
       " 'muitas',\n",
       " 'vezes',\n",
       " 'resultava',\n",
       " 'ágio',\n",
       " 'ações',\n",
       " 'naquela',\n",
       " 'empresa',\n",
       " 'nupcial',\n",
       " 'qualquer',\n",
       " 'apaixonados',\n",
       " 'felicidade',\n",
       " 'fazer',\n",
       " 'alguma',\n",
       " 'cousa',\n",
       " 'contento',\n",
       " 'moça',\n",
       " 'fantasias',\n",
       " 'porque',\n",
       " 'nesse',\n",
       " 'caso',\n",
       " 'cotação',\n",
       " 'assim',\n",
       " 'abaixava',\n",
       " 'daquele',\n",
       " 'contrariava',\n",
       " 'incorria',\n",
       " 'desagrado',\n",
       " 'devia',\n",
       " 'cobiça',\n",
       " 'embrutecer',\n",
       " 'homens',\n",
       " 'paixão',\n",
       " 'não',\n",
       " 'verem',\n",
       " 'frio',\n",
       " 'escárnio',\n",
       " 'aurélia',\n",
       " 'ludibriava',\n",
       " 'nestes',\n",
       " 'brincos',\n",
       " 'ridículos',\n",
       " 'tomavam',\n",
       " 'garridices',\n",
       " 'menina',\n",
       " 'não',\n",
       " 'senão',\n",
       " 'ímpetos',\n",
       " 'irritação',\n",
       " 'íntima',\n",
       " 'talvez',\n",
       " 'mórbida',\n",
       " 'verdade',\n",
       " 'todos',\n",
       " 'porfiavam',\n",
       " 'vezes',\n",
       " 'colhidos',\n",
       " 'desânimo',\n",
       " 'passageiro',\n",
       " 'logo',\n",
       " 'restaurados',\n",
       " 'esperança',\n",
       " 'obstinada',\n",
       " 'nenhum',\n",
       " 'resolvia',\n",
       " 'abandonar',\n",
       " 'campo',\n",
       " 'menos',\n",
       " 'alfredo',\n",
       " 'moreira',\n",
       " 'parecia',\n",
       " 'figurar',\n",
       " 'cabeça',\n",
       " 'rol',\n",
       " 'não',\n",
       " 'acompanharei',\n",
       " 'aurélia',\n",
       " 'efêmera',\n",
       " 'passagem',\n",
       " 'salões',\n",
       " 'corte',\n",
       " 'onde',\n",
       " 'viu',\n",
       " 'jungido',\n",
       " 'carro',\n",
       " 'triunfo',\n",
       " 'tudo',\n",
       " 'sociedade',\n",
       " 'elevado',\n",
       " 'brilhante',\n",
       " 'unicamente',\n",
       " 'referir',\n",
       " 'drama',\n",
       " 'íntimo',\n",
       " 'estranho',\n",
       " 'decidiu',\n",
       " 'destino',\n",
       " 'dessa',\n",
       " 'mulher',\n",
       " 'singular',\n",
       " 'nove',\n",
       " 'horas',\n",
       " 'dia',\n",
       " 'sol',\n",
       " 'ardente',\n",
       " 'março',\n",
       " 'venezianas',\n",
       " 'vestem',\n",
       " 'sacadas',\n",
       " 'sala',\n",
       " 'laranjeiras',\n",
       " 'luz',\n",
       " 'coada',\n",
       " 'verdes',\n",
       " 'empanadas',\n",
       " 'debuxa',\n",
       " 'suavidade',\n",
       " 'nimbo',\n",
       " 'gracioso',\n",
       " 'busto',\n",
       " 'aurélia',\n",
       " 'sobre',\n",
       " 'aveludado',\n",
       " 'escarlate',\n",
       " 'papel',\n",
       " 'forra',\n",
       " 'gabinete',\n",
       " 'reclinada',\n",
       " 'conversadeira',\n",
       " 'olhos',\n",
       " 'vagar',\n",
       " 'crepúsculo',\n",
       " 'aposento',\n",
       " 'moça',\n",
       " 'parece',\n",
       " 'imersa',\n",
       " 'intensa',\n",
       " 'cogitação',\n",
       " 'recolho',\n",
       " 'semblante',\n",
       " 'porte',\n",
       " 'reverberação',\n",
       " 'mordaz',\n",
       " 'ordinário',\n",
       " 'desfere',\n",
       " 'si',\n",
       " 'chama',\n",
       " 'sulfúrea',\n",
       " 'relâmpago',\n",
       " 'serenidade',\n",
       " 'derrama',\n",
       " 'toda',\n",
       " 'pessoa',\n",
       " 'alguma',\n",
       " 'sorte',\n",
       " 'desmaia',\n",
       " 'cintilação',\n",
       " 'beleza',\n",
       " 'embebe',\n",
       " 'fluido',\n",
       " 'inefável',\n",
       " 'meiguice',\n",
       " 'carinho',\n",
       " 'torna',\n",
       " 'olhos',\n",
       " 'não',\n",
       " 'têm',\n",
       " 'fulvos',\n",
       " 'lampejos',\n",
       " 'despedem',\n",
       " 'salões',\n",
       " 'igual',\n",
       " 'mormaço',\n",
       " 'crestam',\n",
       " 'vez',\n",
       " 'cáustico',\n",
       " 'sorriso',\n",
       " 'borbulha',\n",
       " 'agora',\n",
       " 'flor',\n",
       " 'alma',\n",
       " 'rever',\n",
       " 'íntimos',\n",
       " 'enlevos',\n",
       " 'sombreia',\n",
       " 'formoso',\n",
       " 'semblante',\n",
       " 'tinta',\n",
       " 'melancolia',\n",
       " 'não',\n",
       " 'habitual',\n",
       " 'desde',\n",
       " 'certo',\n",
       " 'tempo',\n",
       " 'não',\n",
       " 'obstante',\n",
       " 'diria',\n",
       " 'matiz',\n",
       " 'próprio',\n",
       " 'feições',\n",
       " 'delicadas',\n",
       " 'mulheres',\n",
       " 'assim',\n",
       " 'perfume',\n",
       " 'tristeza',\n",
       " 'idealiza',\n",
       " 'violentas',\n",
       " 'paixões',\n",
       " 'inspiradas',\n",
       " 'anjos',\n",
       " 'exílio',\n",
       " 'aurélia',\n",
       " 'todo',\n",
       " 'dentro',\n",
       " 'si',\n",
       " 'ninguém',\n",
       " 'ver',\n",
       " 'gentil',\n",
       " 'menina',\n",
       " 'aparência',\n",
       " 'tão',\n",
       " 'calma',\n",
       " 'tranqüila',\n",
       " 'acreditaria',\n",
       " 'nesse',\n",
       " 'momento',\n",
       " 'agita',\n",
       " 'resolve',\n",
       " 'problema',\n",
       " 'existência',\n",
       " 'sacrificar',\n",
       " 'irremediavelmente',\n",
       " 'todo',\n",
       " 'futuro',\n",
       " 'alguém',\n",
       " 'entrava',\n",
       " 'gabinete',\n",
       " 'veio',\n",
       " 'arrancar',\n",
       " 'formosa',\n",
       " 'pensativa',\n",
       " 'longa',\n",
       " 'meditação',\n",
       " 'firmina',\n",
       " 'mascarenhas',\n",
       " 'senhora',\n",
       " 'exercia',\n",
       " 'junto',\n",
       " 'aurélia',\n",
       " 'ofício',\n",
       " 'viúva',\n",
       " 'conversadeira',\n",
       " 'estalar',\n",
       " 'beijo',\n",
       " 'face',\n",
       " 'menina',\n",
       " 'nessa',\n",
       " 'ocasião',\n",
       " 'acordou',\n",
       " 'profunda',\n",
       " 'distração',\n",
       " 'absorta',\n",
       " 'aurélia',\n",
       " 'correu',\n",
       " 'vista',\n",
       " 'surpresa',\n",
       " 'aposento',\n",
       " 'interrogou',\n",
       " 'miniatura',\n",
       " 'relógio',\n",
       " 'presa',\n",
       " 'cintura',\n",
       " 'cadeia',\n",
       " 'ouro',\n",
       " 'fosco',\n",
       " 'entretanto',\n",
       " 'firmina',\n",
       " 'acomodando',\n",
       " 'gordura',\n",
       " 'vastas',\n",
       " 'cadeiras',\n",
       " 'braços',\n",
       " 'ficavam',\n",
       " 'lado',\n",
       " 'conversadeira',\n",
       " 'esperar',\n",
       " 'almoço',\n",
       " 'fatigada',\n",
       " 'ontem',\n",
       " 'perguntou',\n",
       " 'viúva',\n",
       " 'expressão',\n",
       " 'afetada',\n",
       " 'ternura',\n",
       " 'exigia',\n",
       " 'cargo',\n",
       " 'lânguida',\n",
       " 'ser',\n",
       " 'calor',\n",
       " 'respondeu',\n",
       " 'moça',\n",
       " 'dar',\n",
       " 'razão',\n",
       " 'qualquer',\n",
       " 'atitude',\n",
       " 'pensativa',\n",
       " 'bailes',\n",
       " 'acabam',\n",
       " 'tão',\n",
       " 'tarde',\n",
       " 'não',\n",
       " 'podem',\n",
       " 'ser',\n",
       " 'bons',\n",
       " 'saúde',\n",
       " 'rio',\n",
       " 'janeiro',\n",
       " 'tanta',\n",
       " 'moça',\n",
       " 'magra',\n",
       " 'amarela',\n",
       " 'ora',\n",
       " 'ontem',\n",
       " 'serviram',\n",
       " 'ceia',\n",
       " 'pouco',\n",
       " 'faltava',\n",
       " 'tocar',\n",
       " 'matinas',\n",
       " 'santa',\n",
       " 'teresa',\n",
       " 'primeira',\n",
       " 'quadrilha',\n",
       " 'começou',\n",
       " 'toque',\n",
       " 'aragão',\n",
       " 'havia',\n",
       " 'muita',\n",
       " 'confusão',\n",
       " 'serviço',\n",
       " 'não',\n",
       " 'mau',\n",
       " 'andou',\n",
       " 'tão',\n",
       " 'atrapalhado',\n",
       " 'firmina',\n",
       " 'continuou',\n",
       " 'aí',\n",
       " 'além',\n",
       " 'descrever',\n",
       " 'impressões',\n",
       " 'baile',\n",
       " 'véspera',\n",
       " 'tirar',\n",
       " 'olhos',\n",
       " 'semblante',\n",
       " 'aurélia',\n",
       " 'onde',\n",
       " 'espiava',\n",
       " 'efeito',\n",
       " 'palavras',\n",
       " 'pronta',\n",
       " 'qualquer',\n",
       " 'observação',\n",
       " 'menor',\n",
       " 'indício',\n",
       " 'contrariedade',\n",
       " 'moça',\n",
       " 'falar',\n",
       " 'desejosa',\n",
       " 'rumor',\n",
       " 'dessa',\n",
       " 'voz',\n",
       " 'ouvia',\n",
       " 'compreender',\n",
       " 'sabia',\n",
       " 'viúva',\n",
       " 'conversava',\n",
       " 'acerca',\n",
       " 'baile',\n",
       " 'não',\n",
       " 'acompanhava',\n",
       " 'dizia',\n",
       " 'repente',\n",
       " 'porém',\n",
       " 'tal',\n",
       " 'achou',\n",
       " 'amaralzinha',\n",
       " 'firmina',\n",
       " 'velha',\n",
       " 'fez',\n",
       " 'semblante',\n",
       " 'amaralzinha',\n",
       " 'moça',\n",
       " 'toda',\n",
       " 'azul',\n",
       " 'espigas',\n",
       " 'prata',\n",
       " 'cabelos',\n",
       " 'apanhados',\n",
       " 'saia',\n",
       " 'simples',\n",
       " 'bom',\n",
       " 'gosto',\n",
       " 'menina',\n",
       " 'bem',\n",
       " 'galante',\n",
       " 'afirmou',\n",
       " 'dizem',\n",
       " 'toca',\n",
       " 'piano',\n",
       " 'perfeitamente',\n",
       " 'voz',\n",
       " 'agradável',\n",
       " 'não',\n",
       " 'costuma',\n",
       " 'aparecer',\n",
       " 'sociedade',\n",
       " 'primeira',\n",
       " 'vez',\n",
       " 'encontramos',\n",
       " 'não',\n",
       " 'lembro',\n",
       " 'ter',\n",
       " 'visto',\n",
       " 'antes',\n",
       " 'primeira',\n",
       " 'vez',\n",
       " 'pronunciando',\n",
       " 'palavras',\n",
       " 'moça',\n",
       " 'parecia',\n",
       " 'novo',\n",
       " 'sentir',\n",
       " 'alma',\n",
       " 'atraída',\n",
       " 'imperiosamente',\n",
       " 'pensamento',\n",
       " 'recôndito',\n",
       " 'absorvia',\n",
       " 'reagiu',\n",
       " 'contra',\n",
       " 'preocupação',\n",
       " 'viúva',\n",
       " 'tom',\n",
       " 'vivo',\n",
       " 'instante',\n",
       " 'cousa',\n",
       " 'firmina',\n",
       " 'aurélia',\n",
       " 'ser',\n",
       " 'franca',\n",
       " 'franca',\n",
       " 'menina',\n",
       " 'defeito',\n",
       " 'moça',\n",
       " 'hesitava',\n",
       " 'experimente',\n",
       " 'senhora',\n",
       " 'acha',\n",
       " 'senhora',\n",
       " 'bonita',\n",
       " 'amaralzinha',\n",
       " 'disse',\n",
       " 'afinal',\n",
       " 'aurélia',\n",
       " 'empalidecendo',\n",
       " 'leve',\n",
       " 'ora',\n",
       " 'ora',\n",
       " 'acudiu',\n",
       " 'viúva',\n",
       " 'rir',\n",
       " 'zombando',\n",
       " 'aurélia',\n",
       " 'pois',\n",
       " 'amaralzinha',\n",
       " 'comparar',\n",
       " 'sincera',\n",
       " 'outras',\n",
       " 'bonitas',\n",
       " 'não',\n",
       " 'chegam',\n",
       " 'pés',\n",
       " 'viúva',\n",
       " 'citou',\n",
       " 'quatro',\n",
       " 'cinco',\n",
       " 'nomes',\n",
       " ...]"
      ]
     },
     "execution_count": 29,
     "metadata": {},
     "output_type": "execute_result"
    }
   ],
   "source": [
    "new_tokens = filter(tokens)\n",
    "new_tokens"
   ]
  },
  {
   "cell_type": "code",
   "execution_count": 30,
   "metadata": {},
   "outputs": [],
   "source": [
    "def generate_count(t):\n",
    "    emoCount = Counter()\n",
    "    for i in range(len(t) - 1):\n",
    "        if len(wordList[t[i]]) > 0:\n",
    "            if t[i-1] == 'não':\n",
    "                emoCount += Counter(revert_emotion(wordList[t[i]]))\n",
    "            else:\n",
    "                emoCount += Counter(wordList[t[i]])\n",
    "    return emoCount"
   ]
  },
  {
   "cell_type": "code",
   "execution_count": 31,
   "metadata": {},
   "outputs": [],
   "source": [
    "def revert_emotion(wordList):\n",
    "    newList = []\n",
    "    for w in wordList:\n",
    "        if w == 'positivo':\n",
    "            newList.append('negativo')\n",
    "        elif w == 'negativo':\n",
    "            newList.append('positivo')\n",
    "        elif w == 'alegria':\n",
    "            newList.append('tristeza')\n",
    "        elif w == 'tristeza':\n",
    "            newList.append('alegria')\n",
    "        elif w == 'antecipação':\n",
    "            newList.append('surpresa')\n",
    "        elif w == 'surpresa':\n",
    "            newList.append('antecipação')\n",
    "        elif w == 'medo':\n",
    "            newList.append('raiva')\n",
    "        elif w == 'raiva':\n",
    "            newList.append('medo')\n",
    "        elif w == 'nojo':\n",
    "            newList.append('confiança')\n",
    "        elif w == 'confiança':\n",
    "            newList.append('nojo')\n",
    "    return newList"
   ]
  },
  {
   "cell_type": "code",
   "execution_count": 32,
   "metadata": {},
   "outputs": [
    {
     "data": {
      "text/plain": [
       "[('positivo', 4413),\n",
       " ('confiança', 2560),\n",
       " ('negativo', 2469),\n",
       " ('antecipação', 2005),\n",
       " ('alegria', 1847),\n",
       " ('tristeza', 1567),\n",
       " ('medo', 1417),\n",
       " ('raiva', 1120),\n",
       " ('nojo', 850),\n",
       " ('surpresa', 786)]"
      ]
     },
     "execution_count": 32,
     "metadata": {},
     "output_type": "execute_result"
    }
   ],
   "source": [
    "generate_count(tokens).most_common()"
   ]
  },
  {
   "cell_type": "code",
   "execution_count": 33,
   "metadata": {},
   "outputs": [
    {
     "data": {
      "text/plain": [
       "[('positivo', 4359),\n",
       " ('confiança', 2526),\n",
       " ('negativo', 2371),\n",
       " ('antecipação', 1983),\n",
       " ('alegria', 1810),\n",
       " ('tristeza', 1455),\n",
       " ('medo', 1301),\n",
       " ('raiva', 1022),\n",
       " ('surpresa', 808),\n",
       " ('nojo', 778)]"
      ]
     },
     "execution_count": 33,
     "metadata": {},
     "output_type": "execute_result"
    }
   ],
   "source": [
    "generate_count(new_tokens).most_common()"
   ]
  },
  {
   "cell_type": "code",
   "execution_count": 34,
   "metadata": {},
   "outputs": [
    {
     "data": {
      "text/plain": [
       "[('positivo', 4357),\n",
       " ('confiança', 2552),\n",
       " ('negativo', 2373),\n",
       " ('antecipação', 2002),\n",
       " ('alegria', 1796),\n",
       " ('tristeza', 1469),\n",
       " ('medo', 1312),\n",
       " ('raiva', 1011),\n",
       " ('surpresa', 789),\n",
       " ('nojo', 752)]"
      ]
     },
     "execution_count": 34,
     "metadata": {},
     "output_type": "execute_result"
    }
   ],
   "source": [
    "emotionCounts.most_common()"
   ]
  },
  {
   "cell_type": "code",
   "execution_count": 162,
   "metadata": {},
   "outputs": [],
   "source": [
    "def negations():\n",
    "    new_t = tokens.copy()\n",
    "    for i in range(0,len(tokens)):\n",
    "        if tokens[i] == 'não':\n",
    "            new_t[i:i+2] = [' '.join(new_t[i:i+2])]\n",
    "    return new_t"
   ]
  },
  {
   "cell_type": "code",
   "execution_count": 165,
   "metadata": {},
   "outputs": [],
   "source": [
    "tkns = negations()\n",
    "filter_tkns = ea.filter(tkns)\n",
    "singular_tkns = singularize(filter_tkns)"
   ]
  },
  {
   "cell_type": "code",
   "execution_count": 166,
   "metadata": {},
   "outputs": [
    {
     "name": "stdout",
     "output_type": "stream",
     "text": [
      "88243\n",
      "87053\n",
      "37327\n",
      "37327\n"
     ]
    }
   ],
   "source": [
    "print(len(tokens))\n",
    "print(len(tkns))\n",
    "print(len(filter_tkns))\n",
    "print(len(singular_tkns))"
   ]
  },
  {
   "cell_type": "code",
   "execution_count": 167,
   "metadata": {},
   "outputs": [
    {
     "data": {
      "text/plain": [
       "[('positivo', 4845),\n",
       " ('confiança', 2806),\n",
       " ('negativo', 2493),\n",
       " ('antecipação', 2221),\n",
       " ('alegria', 1944),\n",
       " ('tristeza', 1562),\n",
       " ('medo', 1417),\n",
       " ('raiva', 1045),\n",
       " ('surpresa', 878),\n",
       " ('nojo', 790)]"
      ]
     },
     "execution_count": 167,
     "metadata": {},
     "output_type": "execute_result"
    }
   ],
   "source": [
    "generate_count(singular_tkns).most_common()"
   ]
  },
  {
   "cell_type": "markdown",
   "metadata": {},
   "source": [
    "## Tratar gênero dos adjetivos"
   ]
  },
  {
   "cell_type": "code",
   "execution_count": 68,
   "metadata": {},
   "outputs": [
    {
     "ename": "TypeError",
     "evalue": "__init__() got an unexpected keyword argument 'encoding'",
     "output_type": "error",
     "traceback": [
      "\u001b[0;31m---------------------------------------------------------------------------\u001b[0m",
      "\u001b[0;31mTypeError\u001b[0m                                 Traceback (most recent call last)",
      "\u001b[0;32m<ipython-input-68-aba1bd72b105>\u001b[0m in \u001b[0;36m<module>\u001b[0;34m()\u001b[0m\n\u001b[1;32m      1\u001b[0m \u001b[0;32mfrom\u001b[0m \u001b[0mtreetagger\u001b[0m \u001b[0;32mimport\u001b[0m \u001b[0mTreeTagger\u001b[0m\u001b[0;34m\u001b[0m\u001b[0m\n\u001b[0;32m----> 2\u001b[0;31m \u001b[0mtt_en\u001b[0m \u001b[0;34m=\u001b[0m \u001b[0mTreeTagger\u001b[0m\u001b[0;34m(\u001b[0m\u001b[0mencoding\u001b[0m\u001b[0;34m=\u001b[0m\u001b[0;34m'utf-8'\u001b[0m\u001b[0;34m,\u001b[0m \u001b[0mlanguage\u001b[0m\u001b[0;34m=\u001b[0m\u001b[0;34m'english'\u001b[0m\u001b[0;34m)\u001b[0m\u001b[0;34m\u001b[0m\u001b[0m\n\u001b[0m\u001b[1;32m      3\u001b[0m \u001b[0mtt_pt\u001b[0m \u001b[0;34m=\u001b[0m \u001b[0mTreeTagger\u001b[0m\u001b[0;34m(\u001b[0m\u001b[0mencoding\u001b[0m\u001b[0;34m=\u001b[0m\u001b[0;34m'utf-8'\u001b[0m\u001b[0;34m,\u001b[0m \u001b[0mlanguage\u001b[0m\u001b[0;34m=\u001b[0m\u001b[0;34m'portuguese'\u001b[0m\u001b[0;34m)\u001b[0m\u001b[0;34m\u001b[0m\u001b[0m\n",
      "\u001b[0;31mTypeError\u001b[0m: __init__() got an unexpected keyword argument 'encoding'"
     ]
    }
   ],
   "source": [
    "from treetagger import TreeTagger\n",
    "tt_en = TreeTagger(encoding='utf-8', language='english')\n",
    "tt_pt = TreeTagger(encoding='utf-8', language='portuguese')"
   ]
  },
  {
   "cell_type": "markdown",
   "metadata": {},
   "source": [
    "## Tratar verbos"
   ]
  },
  {
   "cell_type": "code",
   "execution_count": null,
   "metadata": {},
   "outputs": [],
   "source": []
  }
 ],
 "metadata": {
  "kernelspec": {
   "display_name": "Python 3",
   "language": "python",
   "name": "python3"
  },
  "language_info": {
   "codemirror_mode": {
    "name": "ipython",
    "version": 3
   },
   "file_extension": ".py",
   "mimetype": "text/x-python",
   "name": "python",
   "nbconvert_exporter": "python",
   "pygments_lexer": "ipython3",
   "version": "3.7.0"
  }
 },
 "nbformat": 4,
 "nbformat_minor": 2
}
