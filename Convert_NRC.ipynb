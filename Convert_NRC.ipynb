{
 "cells": [
  {
   "cell_type": "code",
   "execution_count": null,
   "metadata": {},
   "outputs": [],
   "source": [
    "import csv\n",
    "import os"
   ]
  },
  {
   "cell_type": "code",
   "execution_count": null,
   "metadata": {},
   "outputs": [],
   "source": [
    "def create_emolex():\n",
    "    filepath = 'lexico/EMOLEX.csv'\n",
    "    newfile = 'lexico/emolex.csv'\n",
    "    \n",
    "    if os.path.isfile(newfile) == False:\n",
    "        with open(filepath, 'r') as f:\n",
    "            reader = csv.reader(f, delimiter=',')\n",
    "            headerRows = [i for i in range(0, 46)]\n",
    "            for row in headerRows:\n",
    "                next(reader)\n",
    "            with open(newfile, 'w', newline='') as csvfile:\n",
    "                fieldnames = ['word', 'emotion', 'present']\n",
    "                writer = csv.DictWriter(csvfile, fieldnames=fieldnames)\n",
    "                writer.writeheader()\n",
    "                for r in reader:\n",
    "                    if r[11] == '1':\n",
    "                        writer.writerow({'word': r[0], 'emotion': 'positivo', 'present': r[1]})\n",
    "                        writer.writerow({'word': r[0], 'emotion': 'negativo', 'present': r[2]})\n",
    "                        writer.writerow({'word': r[0], 'emotion': 'raiva', 'present': r[3]})\n",
    "                        writer.writerow({'word': r[0], 'emotion': 'antecipação', 'present': r[4]})\n",
    "                        writer.writerow({'word': r[0], 'emotion': 'nojo', 'present': r[5]})\n",
    "                        writer.writerow({'word': r[0], 'emotion': 'medo', 'present': r[6]})\n",
    "                        writer.writerow({'word': r[0], 'emotion': 'alegria', 'present': r[7]})\n",
    "                        writer.writerow({'word': r[0], 'emotion': 'tristeza', 'present': r[8]})\n",
    "                        writer.writerow({'word': r[0], 'emotion': 'surpresa', 'present': r[9]})\n",
    "                        writer.writerow({'word': r[0], 'emotion': 'confiança', 'present': r[10]})\n",
    "        return \"File created\"\n",
    "    else:\n",
    "        return \"File exists\"\n"
   ]
  },
  {
   "cell_type": "code",
   "execution_count": null,
   "metadata": {},
   "outputs": [],
   "source": []
  }
 ],
 "metadata": {
  "kernelspec": {
   "display_name": "Python 3",
   "language": "python",
   "name": "python3"
  },
  "language_info": {
   "codemirror_mode": {
    "name": "ipython",
    "version": 3
   },
   "file_extension": ".py",
   "mimetype": "text/x-python",
   "name": "python",
   "nbconvert_exporter": "python",
   "pygments_lexer": "ipython3",
   "version": "3.7.0"
  }
 },
 "nbformat": 4,
 "nbformat_minor": 2
}
