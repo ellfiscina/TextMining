{
 "cells": [
  {
   "cell_type": "markdown",
   "metadata": {},
   "source": [
    "# Pré-processamento com TreeTagger"
   ]
  },
  {
   "cell_type": "code",
   "execution_count": 1,
   "metadata": {},
   "outputs": [
    {
     "name": "stdout",
     "output_type": "stream",
     "text": [
      "Importing Jupyter notebook from Convert_NRC.ipynb\n",
      "Importing Jupyter notebook from /home/ellen/Projetos/TextMining/header/EmotionAnalysis.ipynb\n"
     ]
    }
   ],
   "source": [
    "import nbimporter\n",
    "import numpy as np\n",
    "import re\n",
    "import Convert_NRC as nrc\n",
    "from header import EmotionAnalysis as ea"
   ]
  },
  {
   "cell_type": "markdown",
   "metadata": {},
   "source": [
    "## Obtenção do documento"
   ]
  },
  {
   "cell_type": "code",
   "execution_count": 2,
   "metadata": {},
   "outputs": [],
   "source": [
    "filepath = 'books/senhora.txt'"
   ]
  },
  {
   "cell_type": "code",
   "execution_count": 3,
   "metadata": {},
   "outputs": [],
   "source": [
    "raw = ea.open_file(filepath)"
   ]
  },
  {
   "cell_type": "markdown",
   "metadata": {},
   "source": [
    "## Pré-processamento"
   ]
  },
  {
   "cell_type": "code",
   "execution_count": 4,
   "metadata": {},
   "outputs": [],
   "source": [
    "tags = ea.tags(raw)"
   ]
  },
  {
   "cell_type": "code",
   "execution_count": 5,
   "metadata": {},
   "outputs": [],
   "source": [
    "label = re.compile('^A|^R|^NC.P|^NCF|^V')"
   ]
  },
  {
   "cell_type": "code",
   "execution_count": 6,
   "metadata": {},
   "outputs": [],
   "source": [
    "stopwords = ea.get_stopwords()"
   ]
  },
  {
   "cell_type": "code",
   "execution_count": 7,
   "metadata": {},
   "outputs": [],
   "source": [
    "tokens = []\n",
    "for tag in tags:\n",
    "    if bool(re.search(label, tag[1])) == False or tag[2] == '<unknown>':\n",
    "        tokens.append(tag[0].lower())\n",
    "    else:\n",
    "        tokens.append(tag[2])"
   ]
  },
  {
   "cell_type": "code",
   "execution_count": 8,
   "metadata": {},
   "outputs": [],
   "source": [
    "negated_tokens = ea.negations(tokens)"
   ]
  },
  {
   "cell_type": "code",
   "execution_count": 9,
   "metadata": {},
   "outputs": [],
   "source": [
    "no_stop_tokens = ea.remove_stopwords(stopwords, negated_tokens)"
   ]
  },
  {
   "cell_type": "code",
   "execution_count": 10,
   "metadata": {},
   "outputs": [],
   "source": [
    "filtered_tokens = ea.remove_not_alpha(no_stop_tokens)"
   ]
  },
  {
   "cell_type": "code",
   "execution_count": 22,
   "metadata": {},
   "outputs": [],
   "source": [
    "text = ea.convert_to_text(tokens)"
   ]
  },
  {
   "cell_type": "markdown",
   "metadata": {},
   "source": [
    "### Análise do texto"
   ]
  },
  {
   "cell_type": "code",
   "execution_count": 11,
   "metadata": {},
   "outputs": [],
   "source": [
    "dist = ea.tokens_frequency(filtered_tokens)"
   ]
  },
  {
   "cell_type": "code",
   "execution_count": 12,
   "metadata": {},
   "outputs": [
    {
     "name": "stdout",
     "output_type": "stream",
     "text": [
      "quantidade de palavras: 94484\n",
      "quantidade de palavras após o filtro: 40987\n",
      "quantidade de palavras únicas: 6811\n",
      "quantidade de palavras únicas após o filtro: 6171\n",
      "diversidade léxica: 15.055993363749481\n"
     ]
    }
   ],
   "source": [
    "ea.info(tokens, filtered_tokens)"
   ]
  },
  {
   "cell_type": "code",
   "execution_count": 13,
   "metadata": {},
   "outputs": [
    {
     "name": "stdout",
     "output_type": "stream",
     "text": [
      "20 palavras mais frequentes: [('ser', 869), ('aurélia', 622), ('ter', 520), ('moço', 356), ('ir', 306), ('estar', 298), ('fazer', 283), ('haver', 263), ('seixas', 246), ('senhor', 243), ('marido', 220), ('seixa', 211), ('dizer', 209), ('mulher', 187), ('dar', 183), ('poder', 173), ('ainda', 168), ('vez', 152), ('casa', 149), ('ver', 146)]\n"
     ]
    }
   ],
   "source": [
    "freq = ea.most_frequent(filtered_tokens, dist, 20)\n",
    "print(f\"20 palavras mais frequentes: {freq}\")"
   ]
  },
  {
   "cell_type": "markdown",
   "metadata": {},
   "source": [
    "### Análise de Emoção"
   ]
  },
  {
   "cell_type": "code",
   "execution_count": 14,
   "metadata": {},
   "outputs": [],
   "source": [
    "wordList, emotionList = ea.emolex()"
   ]
  },
  {
   "cell_type": "code",
   "execution_count": 15,
   "metadata": {},
   "outputs": [],
   "source": [
    "emoList = ea.newList(emotionList, filtered_tokens)"
   ]
  },
  {
   "cell_type": "code",
   "execution_count": 16,
   "metadata": {},
   "outputs": [],
   "source": [
    "emotionCounts = ea.generate_count_with_negation(wordList, filtered_tokens)"
   ]
  },
  {
   "cell_type": "code",
   "execution_count": 17,
   "metadata": {},
   "outputs": [
    {
     "data": {
      "text/plain": [
       "[('positivo', 5886),\n",
       " ('negativo', 3536),\n",
       " ('confiança', 3363),\n",
       " ('antecipação', 2923),\n",
       " ('alegria', 2322),\n",
       " ('medo', 1954),\n",
       " ('tristeza', 1907),\n",
       " ('raiva', 1419),\n",
       " ('surpresa', 1202),\n",
       " ('nojo', 1095)]"
      ]
     },
     "execution_count": 17,
     "metadata": {},
     "output_type": "execute_result"
    }
   ],
   "source": [
    "emotionCounts.most_common()"
   ]
  },
  {
   "cell_type": "code",
   "execution_count": 18,
   "metadata": {},
   "outputs": [],
   "source": [
    "wordCounts = ea.generate_count(emoList, filtered_tokens)"
   ]
  },
  {
   "cell_type": "code",
   "execution_count": 19,
   "metadata": {},
   "outputs": [
    {
     "data": {
      "text/plain": [
       "[('amor', 2562),\n",
       " ('senhor', 1944),\n",
       " ('mãe', 1584),\n",
       " ('casar', 1554),\n",
       " ('sair', 1512),\n",
       " ('tratar', 1421),\n",
       " ('casamento', 1417),\n",
       " ('palavra', 1016),\n",
       " ('sorrir', 928),\n",
       " ('esperança', 928),\n",
       " ('doce', 864),\n",
       " ('perder', 756),\n",
       " ('flor', 715),\n",
       " ('liberdade', 704),\n",
       " ('dinheiro', 637),\n",
       " ('surpresa', 627),\n",
       " ('noivo', 611),\n",
       " ('paixão', 611),\n",
       " ('deus', 576),\n",
       " ('segredo', 552)]"
      ]
     },
     "execution_count": 19,
     "metadata": {},
     "output_type": "execute_result"
    }
   ],
   "source": [
    "wordCounts.most_common(20)"
   ]
  },
  {
   "cell_type": "code",
   "execution_count": 20,
   "metadata": {},
   "outputs": [],
   "source": [
    "wordArray = np.asarray(wordCounts.most_common(5))\n",
    "wordArray = [i[0] for i in wordArray]"
   ]
  },
  {
   "cell_type": "code",
   "execution_count": 24,
   "metadata": {},
   "outputs": [
    {
     "data": {
      "image/png": "[encoded data removed]",
      "text/plain": [
       "<Figure size 432x288 with 1 Axes>"
      ]
     },
     "metadata": {},
     "output_type": "display_data"
    }
   ],
   "source": [
    "text.dispersion_plot(wordArray)"
   ]
  },
  {
   "cell_type": "code",
   "execution_count": 25,
   "metadata": {},
   "outputs": [
    {
     "data": {
      "image/png": "[encoded data removed]",
      "text/plain": [
       "<Figure size 432x288 with 1 Axes>"
      ]
     },
     "metadata": {},
     "output_type": "display_data"
    }
   ],
   "source": [
    "sortedToken = sorted(list(set(filtered_tokens)), key=lambda token: dist[token], reverse=True)\n",
    "text.dispersion_plot(sortedToken[:6])"
   ]
  },
  {
   "cell_type": "code",
   "execution_count": null,
   "metadata": {},
   "outputs": [],
   "source": []
  }
 ],
 "metadata": {
  "kernelspec": {
   "display_name": "Python 3",
   "language": "python",
   "name": "python3"
  },
  "language_info": {
   "codemirror_mode": {
    "name": "ipython",
    "version": 3
   },
   "file_extension": ".py",
   "mimetype": "text/x-python",
   "name": "python",
   "nbconvert_exporter": "python",
   "pygments_lexer": "ipython3",
   "version": "3.6.5"
  }
 },
 "nbformat": 4,
 "nbformat_minor": 2
}
