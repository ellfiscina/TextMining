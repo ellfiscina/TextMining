{
 "cells": [
  {
   "cell_type": "code",
   "execution_count": 6,
   "metadata": {},
   "outputs": [],
   "source": [
    "import nltk\n",
    "import pandas as pd\n",
    "import numpy as np\n",
    "import re\n",
    "from nltk.corpus import stopwords\n",
    "from sklearn.feature_extraction.text import CountVectorizer, TfidfVectorizer\n",
    "from sklearn import model_selection, naive_bayes, metrics, svm\n",
    "from sklearn.linear_model import SGDClassifier\n",
    "from sklearn.svm import SVC\n",
    "from sklearn.tree import DecisionTreeClassifier\n",
    "from sklearn.naive_bayes import MultinomialNB, GaussianNB\n",
    "from sklearn.neural_network import MLPClassifier"
   ]
  },
  {
   "cell_type": "code",
   "execution_count": null,
   "metadata": {},
   "outputs": [],
   "source": [
    "\n",
    "preprocessing, linear_model, \n",
    "from sklearn import decomposition, ensemble\n"
   ]
  },
  {
   "cell_type": "markdown",
   "metadata": {},
   "source": [
    "### Base de dados"
   ]
  },
  {
   "cell_type": "code",
   "execution_count": 2,
   "metadata": {},
   "outputs": [],
   "source": [
    "def open_file(filepath):\n",
    "    file = open(filepath, 'r')\n",
    "\n",
    "    return file.read()"
   ]
  },
  {
   "cell_type": "code",
   "execution_count": 3,
   "metadata": {},
   "outputs": [],
   "source": [
    "senhora = open_file('books/senhora.txt')\n",
    "diva = open_file('books/diva.txt')\n",
    "gaucho = open_file('books/gaucho.txt')\n",
    "guarani = open_file('books/guarani.txt')\n",
    "iracema = open_file('books/iracema.txt')\n",
    "luciola = open_file('books/luciola.txt')\n",
    "viuvinha = open_file('books/viuvinha.txt')\n",
    "ubirajara = open_file('books/ubirajara.txt')\n",
    "sertanejo = open_file('books/sertanejo.txt')\n",
    "troncodoipe = open_file('books/troncodoipe.txt')"
   ]
  },
  {
   "cell_type": "code",
   "execution_count": 4,
   "metadata": {},
   "outputs": [],
   "source": [
    "# Lista com os textos crus\n",
    "texts = [senhora, diva, gaucho, guarani, iracema, luciola, viuvinha, ubirajara, sertanejo, troncodoipe]"
   ]
  },
  {
   "cell_type": "code",
   "execution_count": 5,
   "metadata": {},
   "outputs": [],
   "source": [
    "labels = ['u', 'u', 'r', 'i', 'i', 'u', 'u', 'i', 'r', 'r']"
   ]
  },
  {
   "cell_type": "code",
   "execution_count": 7,
   "metadata": {},
   "outputs": [
    {
     "data": {
      "text/html": [
       "<div>\n",
       "<style scoped>\n",
       "    .dataframe tbody tr th:only-of-type {\n",
       "        vertical-align: middle;\n",
       "    }\n",
       "\n",
       "    .dataframe tbody tr th {\n",
       "        vertical-align: top;\n",
       "    }\n",
       "\n",
       "    .dataframe thead th {\n",
       "        text-align: right;\n",
       "    }\n",
       "</style>\n",
       "<table border=\"1\" class=\"dataframe\">\n",
       "  <thead>\n",
       "    <tr style=\"text-align: right;\">\n",
       "      <th></th>\n",
       "      <th>texts</th>\n",
       "      <th>labels</th>\n",
       "    </tr>\n",
       "  </thead>\n",
       "  <tbody>\n",
       "    <tr>\n",
       "      <th>0</th>\n",
       "      <td>Há anos raiou no céu fluminense uma nova estre...</td>\n",
       "      <td>u</td>\n",
       "    </tr>\n",
       "    <tr>\n",
       "      <th>1</th>\n",
       "      <td>Emília tinha quatorze anos quando a vi pela pr...</td>\n",
       "      <td>u</td>\n",
       "    </tr>\n",
       "    <tr>\n",
       "      <th>2</th>\n",
       "      <td>Como são melancólicas e solenes, ao pino do so...</td>\n",
       "      <td>r</td>\n",
       "    </tr>\n",
       "    <tr>\n",
       "      <th>3</th>\n",
       "      <td>De um dos cabeços da Serra dos Órgãos desliza ...</td>\n",
       "      <td>i</td>\n",
       "    </tr>\n",
       "    <tr>\n",
       "      <th>4</th>\n",
       "      <td>Verdes mares bravios de minha terra natal, ond...</td>\n",
       "      <td>i</td>\n",
       "    </tr>\n",
       "    <tr>\n",
       "      <th>5</th>\n",
       "      <td>A senhora estranhou, na última vez que estivem...</td>\n",
       "      <td>u</td>\n",
       "    </tr>\n",
       "    <tr>\n",
       "      <th>6</th>\n",
       "      <td>Se passasse há dez anos pela Praia da Glória, ...</td>\n",
       "      <td>u</td>\n",
       "    </tr>\n",
       "    <tr>\n",
       "      <th>7</th>\n",
       "      <td>Pela marjem do grande rio caminha Jaguarê, o j...</td>\n",
       "      <td>i</td>\n",
       "    </tr>\n",
       "    <tr>\n",
       "      <th>8</th>\n",
       "      <td>Esta imensa campina, que se dilata por horizon...</td>\n",
       "      <td>r</td>\n",
       "    </tr>\n",
       "    <tr>\n",
       "      <th>9</th>\n",
       "      <td>Era linda a situação da fazenda de Nossa Senho...</td>\n",
       "      <td>r</td>\n",
       "    </tr>\n",
       "  </tbody>\n",
       "</table>\n",
       "</div>"
      ],
      "text/plain": [
       "                                               texts labels\n",
       "0  Há anos raiou no céu fluminense uma nova estre...      u\n",
       "1  Emília tinha quatorze anos quando a vi pela pr...      u\n",
       "2  Como são melancólicas e solenes, ao pino do so...      r\n",
       "3  De um dos cabeços da Serra dos Órgãos desliza ...      i\n",
       "4  Verdes mares bravios de minha terra natal, ond...      i\n",
       "5  A senhora estranhou, na última vez que estivem...      u\n",
       "6  Se passasse há dez anos pela Praia da Glória, ...      u\n",
       "7  Pela marjem do grande rio caminha Jaguarê, o j...      i\n",
       "8  Esta imensa campina, que se dilata por horizon...      r\n",
       "9  Era linda a situação da fazenda de Nossa Senho...      r"
      ]
     },
     "execution_count": 7,
     "metadata": {},
     "output_type": "execute_result"
    }
   ],
   "source": [
    "df = pd.DataFrame()\n",
    "df['texts'] = texts\n",
    "df['labels'] = labels\n",
    "df"
   ]
  },
  {
   "cell_type": "code",
   "execution_count": 8,
   "metadata": {},
   "outputs": [],
   "source": [
    "BAD_SYMBOLS_RE = re.compile('[^ \\w]')\n",
    "STOPWORDS = set(stopwords.words('portuguese'))"
   ]
  },
  {
   "cell_type": "code",
   "execution_count": 9,
   "metadata": {},
   "outputs": [],
   "source": [
    "def preProcess(text):\n",
    "    text = text.lower()\n",
    "    text = ' '.join(word for word in text.split() if word not in STOPWORDS)\n",
    "    text = BAD_SYMBOLS_RE.sub(' ', text)\n",
    "        \n",
    "    return text"
   ]
  },
  {
   "cell_type": "code",
   "execution_count": 10,
   "metadata": {},
   "outputs": [
    {
     "data": {
      "text/html": [
       "<div>\n",
       "<style scoped>\n",
       "    .dataframe tbody tr th:only-of-type {\n",
       "        vertical-align: middle;\n",
       "    }\n",
       "\n",
       "    .dataframe tbody tr th {\n",
       "        vertical-align: top;\n",
       "    }\n",
       "\n",
       "    .dataframe thead th {\n",
       "        text-align: right;\n",
       "    }\n",
       "</style>\n",
       "<table border=\"1\" class=\"dataframe\">\n",
       "  <thead>\n",
       "    <tr style=\"text-align: right;\">\n",
       "      <th></th>\n",
       "      <th>texts</th>\n",
       "      <th>labels</th>\n",
       "    </tr>\n",
       "  </thead>\n",
       "  <tbody>\n",
       "    <tr>\n",
       "      <th>0</th>\n",
       "      <td>anos raiou céu fluminense nova estrela  desde ...</td>\n",
       "      <td>u</td>\n",
       "    </tr>\n",
       "    <tr>\n",
       "      <th>1</th>\n",
       "      <td>emília quatorze anos vi primeira vez  menina f...</td>\n",
       "      <td>u</td>\n",
       "    </tr>\n",
       "    <tr>\n",
       "      <th>2</th>\n",
       "      <td>melancólicas solenes  pino sol  vastas campina...</td>\n",
       "      <td>r</td>\n",
       "    </tr>\n",
       "    <tr>\n",
       "      <th>3</th>\n",
       "      <td>cabeços serra órgãos desliza fio água dirige n...</td>\n",
       "      <td>i</td>\n",
       "    </tr>\n",
       "    <tr>\n",
       "      <th>4</th>\n",
       "      <td>verdes mares bravios terra natal  onde canta j...</td>\n",
       "      <td>i</td>\n",
       "    </tr>\n",
       "    <tr>\n",
       "      <th>5</th>\n",
       "      <td>senhora estranhou  última vez juntos  excessiv...</td>\n",
       "      <td>u</td>\n",
       "    </tr>\n",
       "    <tr>\n",
       "      <th>6</th>\n",
       "      <td>passasse dez anos praia glória  prima  antes n...</td>\n",
       "      <td>u</td>\n",
       "    </tr>\n",
       "    <tr>\n",
       "      <th>7</th>\n",
       "      <td>marjem grande rio caminha jaguarê  joven caçad...</td>\n",
       "      <td>i</td>\n",
       "    </tr>\n",
       "    <tr>\n",
       "      <th>8</th>\n",
       "      <td>imensa campina  dilata horizontes infindos  é ...</td>\n",
       "      <td>r</td>\n",
       "    </tr>\n",
       "    <tr>\n",
       "      <th>9</th>\n",
       "      <td>linda situação fazenda senhora boqueirão  agua...</td>\n",
       "      <td>r</td>\n",
       "    </tr>\n",
       "  </tbody>\n",
       "</table>\n",
       "</div>"
      ],
      "text/plain": [
       "                                               texts labels\n",
       "0  anos raiou céu fluminense nova estrela  desde ...      u\n",
       "1  emília quatorze anos vi primeira vez  menina f...      u\n",
       "2  melancólicas solenes  pino sol  vastas campina...      r\n",
       "3  cabeços serra órgãos desliza fio água dirige n...      i\n",
       "4  verdes mares bravios terra natal  onde canta j...      i\n",
       "5  senhora estranhou  última vez juntos  excessiv...      u\n",
       "6  passasse dez anos praia glória  prima  antes n...      u\n",
       "7  marjem grande rio caminha jaguarê  joven caçad...      i\n",
       "8  imensa campina  dilata horizontes infindos  é ...      r\n",
       "9  linda situação fazenda senhora boqueirão  agua...      r"
      ]
     },
     "execution_count": 10,
     "metadata": {},
     "output_type": "execute_result"
    }
   ],
   "source": [
    "df['texts'] = df['texts'].apply(preProcess)\n",
    "df"
   ]
  },
  {
   "cell_type": "markdown",
   "metadata": {},
   "source": [
    "### Vetores"
   ]
  },
  {
   "cell_type": "code",
   "execution_count": 11,
   "metadata": {},
   "outputs": [],
   "source": [
    "count_vectorizer = CountVectorizer(ngram_range=(2,2))       # Count_vector\n",
    "tf_idf_vectorizer = TfidfVectorizer(ngram_range=(2,2))      # TF-IDF normalizado\n",
    "vectorizer = TfidfVectorizer(ngram_range=(2,2), norm=None)  #TF-IDF sem normalização"
   ]
  },
  {
   "cell_type": "code",
   "execution_count": 12,
   "metadata": {},
   "outputs": [],
   "source": [
    "X1 = count_vectorizer.fit_transform(df['texts'])\n",
    "X2 = tf_idf_vectorizer.fit_transform(df['texts'])\n",
    "X3 = vectorizer.fit_transform(df['texts'])"
   ]
  },
  {
   "cell_type": "code",
   "execution_count": 13,
   "metadata": {},
   "outputs": [
    {
     "data": {
      "text/plain": [
       "array([[0, 1, 0, ..., 0, 0, 0],\n",
       "       [0, 0, 0, ..., 0, 0, 0],\n",
       "       [0, 0, 0, ..., 0, 0, 0],\n",
       "       ...,\n",
       "       [0, 0, 0, ..., 0, 0, 0],\n",
       "       [0, 0, 0, ..., 0, 0, 1],\n",
       "       [3, 0, 0, ..., 0, 0, 0]], dtype=int64)"
      ]
     },
     "execution_count": 13,
     "metadata": {},
     "output_type": "execute_result"
    }
   ],
   "source": [
    "X1.toarray()"
   ]
  },
  {
   "cell_type": "code",
   "execution_count": 14,
   "metadata": {},
   "outputs": [
    {
     "data": {
      "text/plain": [
       "array([[0.        , 0.00442859, 0.        , ..., 0.        , 0.        ,\n",
       "        0.        ],\n",
       "       [0.        , 0.        , 0.        , ..., 0.        , 0.        ,\n",
       "        0.        ],\n",
       "       [0.        , 0.        , 0.        , ..., 0.        , 0.        ,\n",
       "        0.        ],\n",
       "       ...,\n",
       "       [0.        , 0.        , 0.        , ..., 0.        , 0.        ,\n",
       "        0.        ],\n",
       "       [0.        , 0.        , 0.        , ..., 0.        , 0.        ,\n",
       "        0.00201503],\n",
       "       [0.01030604, 0.        , 0.        , ..., 0.        , 0.        ,\n",
       "        0.        ]])"
      ]
     },
     "execution_count": 14,
     "metadata": {},
     "output_type": "execute_result"
    }
   ],
   "source": [
    "X2.toarray()"
   ]
  },
  {
   "cell_type": "code",
   "execution_count": 15,
   "metadata": {},
   "outputs": [
    {
     "data": {
      "text/plain": [
       "array([[0.        , 2.70474809, 0.        , ..., 0.        , 0.        ,\n",
       "        0.        ],\n",
       "       [0.        , 0.        , 0.        , ..., 0.        , 0.        ,\n",
       "        0.        ],\n",
       "       [0.        , 0.        , 0.        , ..., 0.        , 0.        ,\n",
       "        0.        ],\n",
       "       ...,\n",
       "       [0.        , 0.        , 0.        , ..., 0.        , 0.        ,\n",
       "        0.        ],\n",
       "       [0.        , 0.        , 0.        , ..., 0.        , 0.        ,\n",
       "        2.70474809],\n",
       "       [6.89784895, 0.        , 0.        , ..., 0.        , 0.        ,\n",
       "        0.        ]])"
      ]
     },
     "execution_count": 15,
     "metadata": {},
     "output_type": "execute_result"
    }
   ],
   "source": [
    "X3.toarray()"
   ]
  },
  {
   "cell_type": "markdown",
   "metadata": {},
   "source": [
    "### Classificação com Scikit-learn"
   ]
  },
  {
   "cell_type": "code",
   "execution_count": 16,
   "metadata": {},
   "outputs": [],
   "source": [
    "classifiers = [\n",
    "    SVC(kernel=\"linear\", C=0.025),\n",
    "    SVC(gamma=2, C=1),\n",
    "    SGDClassifier(loss='hinge', penalty='l2',alpha=1e-3, n_iter=5, random_state=42),\n",
    "    DecisionTreeClassifier(max_depth=5),\n",
    "    MultinomialNB(),\n",
    "    GaussianNB(),\n",
    "    MLPClassifier(alpha=1)]"
   ]
  },
  {
   "cell_type": "code",
   "execution_count": 44,
   "metadata": {},
   "outputs": [],
   "source": [
    "x_train, x_test, y_train, y_test = model_selection.train_test_split(df['texts'], df['labels'])"
   ]
  },
  {
   "cell_type": "code",
   "execution_count": 45,
   "metadata": {},
   "outputs": [],
   "source": [
    "X_train = tf_idf_vectorizer.fit_transform(x_train)"
   ]
  },
  {
   "cell_type": "code",
   "execution_count": 46,
   "metadata": {},
   "outputs": [],
   "source": [
    "X_test = tf_idf_vectorizer.transform(x_test)"
   ]
  },
  {
   "cell_type": "code",
   "execution_count": 47,
   "metadata": {},
   "outputs": [],
   "source": [
    "def classification(clf, X_train, X_test):\n",
    "    c = clf.fit(X_train, y_train)\n",
    "    \n",
    "    return c.predict(X_test)"
   ]
  },
  {
   "cell_type": "code",
   "execution_count": 48,
   "metadata": {},
   "outputs": [
    {
     "name": "stderr",
     "output_type": "stream",
     "text": [
      "/home/ellen/anaconda3/lib/python3.7/site-packages/sklearn/linear_model/stochastic_gradient.py:117: DeprecationWarning: n_iter parameter is deprecated in 0.19 and will be removed in 0.21. Use max_iter and tol instead.\n",
      "  DeprecationWarning)\n"
     ]
    }
   ],
   "source": [
    "svm_linear = classification(classifiers[0], X_train, X_test)\n",
    "svm = classification(classifiers[1], X_train, X_test)\n",
    "svm_sgdc = classification(classifiers[2], X_train, X_test)\n",
    "decision_tree = classification(classifiers[3], X_train, X_test)\n",
    "multi_naive = classification(classifiers[4], X_train, X_test)\n",
    "gauss_naive = classification(classifiers[5], X_train.toarray(), X_test.toarray())\n",
    "neural_net = classification(classifiers[6], X_train, X_test)"
   ]
  },
  {
   "cell_type": "code",
   "execution_count": 49,
   "metadata": {},
   "outputs": [
    {
     "name": "stdout",
     "output_type": "stream",
     "text": [
      "4    i\n",
      "3    i\n",
      "1    u\n",
      "Name: labels, dtype: object\n",
      "------------------------------------\n",
      "Linear SVM\n",
      "['r' 'u' 'u'] 0.3333333333333333\n",
      "RBF SVM\n",
      "['r' 'u' 'u'] 0.3333333333333333\n",
      "SGDC SVM\n",
      "['i' 'u' 'u'] 0.6666666666666666\n",
      "Decision Tree\n",
      "['u' 'u' 'u'] 0.3333333333333333\n",
      "Multinominal Naive\n",
      "['r' 'u' 'u'] 0.3333333333333333\n",
      "Gaussian Naive Bayes\n",
      "['r' 'r' 'u'] 0.3333333333333333\n",
      "Neural Net\n",
      "['u' 'u' 'u'] 0.3333333333333333\n"
     ]
    }
   ],
   "source": [
    "print(y_test)\n",
    "print(\"------------------------------------\")\n",
    "print(\"Linear SVM\")\n",
    "print(svm_linear, np.mean(svm_linear == y_test))\n",
    "print(\"RBF SVM\")\n",
    "print(svm, np.mean(svm == y_test))\n",
    "print(\"SGDC SVM\")\n",
    "print(svm_sgdc, np.mean(svm_sgdc == y_test))\n",
    "print(\"Decision Tree\")\n",
    "print(decision_tree, np.mean(decision_tree == y_test))\n",
    "print(\"Multinominal Naive\")\n",
    "print(multi_naive, np.mean(multi_naive == y_test))\n",
    "print(\"Gaussian Naive Bayes\")\n",
    "print(gauss_naive, np.mean(gauss_naive == y_test))\n",
    "print(\"Neural Net\")\n",
    "print(neural_net, np.mean(neural_net == y_test))"
   ]
  },
  {
   "cell_type": "code",
   "execution_count": 50,
   "metadata": {},
   "outputs": [],
   "source": [
    "from sklearn.pipeline import Pipeline\n",
    "from sklearn.feature_extraction.text import TfidfTransformer\n",
    "from sklearn.metrics import classification_report"
   ]
  },
  {
   "cell_type": "code",
   "execution_count": 51,
   "metadata": {},
   "outputs": [],
   "source": [
    "def pipeline(classifier):\n",
    "    pipe = Pipeline([('vect', CountVectorizer()),\n",
    "                     ('tfidf', TfidfTransformer()),\n",
    "                     ('clf', classifier)])\n",
    "    \n",
    "    return pipe"
   ]
  },
  {
   "cell_type": "code",
   "execution_count": 52,
   "metadata": {},
   "outputs": [],
   "source": [
    "my_tags = ['u', 'r', 'i']"
   ]
  },
  {
   "cell_type": "code",
   "execution_count": 53,
   "metadata": {},
   "outputs": [
    {
     "name": "stdout",
     "output_type": "stream",
     "text": [
      "real classes: ['i' 'i' 'u']\n",
      "predicted classes: ['r' 'u' 'u']\n",
      "accuracy: 0.3333333333333333\n",
      "             precision    recall  f1-score   support\n",
      "\n",
      "          u       0.00      0.00      0.00         2\n",
      "          r       0.00      0.00      0.00         0\n",
      "          i       0.50      1.00      0.67         1\n",
      "\n",
      "avg / total       0.17      0.33      0.22         3\n",
      "\n"
     ]
    },
    {
     "name": "stderr",
     "output_type": "stream",
     "text": [
      "/home/ellen/anaconda3/lib/python3.7/site-packages/sklearn/metrics/classification.py:1135: UndefinedMetricWarning: Precision and F-score are ill-defined and being set to 0.0 in labels with no predicted samples.\n",
      "  'precision', 'predicted', average, warn_for)\n",
      "/home/ellen/anaconda3/lib/python3.7/site-packages/sklearn/metrics/classification.py:1137: UndefinedMetricWarning: Recall and F-score are ill-defined and being set to 0.0 in labels with no true samples.\n",
      "  'recall', 'true', average, warn_for)\n"
     ]
    }
   ],
   "source": [
    "svm_linear = pipeline(classifiers[0])\n",
    "svm_linear.fit(x_train, y_train)\n",
    "svm_linear_pred = svm_linear.predict(x_test)\n",
    "\n",
    "print(\"Linear SVM\")\n",
    "print(f\"real classes: {y_test.values}\")\n",
    "print(f\"predicted classes: {svm_linear_pred}\")\n",
    "print(f\"accuracy: {metrics.accuracy_score(svm_linear_pred, y_test)}\")\n",
    "print(classification_report(y_test, svm_linear_pred, target_names = my_tags))"
   ]
  },
  {
   "cell_type": "code",
   "execution_count": 59,
   "metadata": {},
   "outputs": [
    {
     "name": "stdout",
     "output_type": "stream",
     "text": [
      "RBF SVM\n",
      "real classes: ['i' 'i' 'u']\n",
      "predicted classes: ['r' 'u' 'u']\n",
      "accuracy: 0.3333333333333333\n",
      "             precision    recall  f1-score   support\n",
      "\n",
      "          u       0.00      0.00      0.00         2\n",
      "          r       0.00      0.00      0.00         0\n",
      "          i       0.50      1.00      0.67         1\n",
      "\n",
      "avg / total       0.17      0.33      0.22         3\n",
      "\n"
     ]
    },
    {
     "name": "stderr",
     "output_type": "stream",
     "text": [
      "/home/ellen/anaconda3/lib/python3.7/site-packages/sklearn/metrics/classification.py:1135: UndefinedMetricWarning: Precision and F-score are ill-defined and being set to 0.0 in labels with no predicted samples.\n",
      "  'precision', 'predicted', average, warn_for)\n",
      "/home/ellen/anaconda3/lib/python3.7/site-packages/sklearn/metrics/classification.py:1137: UndefinedMetricWarning: Recall and F-score are ill-defined and being set to 0.0 in labels with no true samples.\n",
      "  'recall', 'true', average, warn_for)\n"
     ]
    }
   ],
   "source": [
    "svm = pipeline(classifiers[1])\n",
    "svm.fit(x_train, y_train)\n",
    "svm_pred = svm.predict(x_test)\n",
    "\n",
    "print(\"RBF SVM\")\n",
    "print(f\"real classes: {y_test.values}\")\n",
    "print(f\"predicted classes: {svm_pred}\")\n",
    "print(f\"accuracy: {metrics.accuracy_score(svm_pred, y_test)}\")\n",
    "print(classification_report(y_test, svm_pred, target_names = my_tags))"
   ]
  },
  {
   "cell_type": "code",
   "execution_count": 60,
   "metadata": {},
   "outputs": [
    {
     "name": "stdout",
     "output_type": "stream",
     "text": [
      "SGDC SVM\n",
      "real classes: ['i' 'i' 'u']\n",
      "predicted classes: ['i' 'u' 'u']\n",
      "accuracy: 0.6666666666666666\n",
      "             precision    recall  f1-score   support\n",
      "\n",
      "          u       1.00      0.50      0.67         2\n",
      "          r       0.50      1.00      0.67         1\n",
      "\n",
      "avg / total       0.83      0.67      0.67         3\n",
      "\n"
     ]
    },
    {
     "name": "stderr",
     "output_type": "stream",
     "text": [
      "/home/ellen/anaconda3/lib/python3.7/site-packages/sklearn/linear_model/stochastic_gradient.py:117: DeprecationWarning: n_iter parameter is deprecated in 0.19 and will be removed in 0.21. Use max_iter and tol instead.\n",
      "  DeprecationWarning)\n",
      "/home/ellen/anaconda3/lib/python3.7/site-packages/sklearn/metrics/classification.py:1428: UserWarning: labels size, 2, does not match size of target_names, 3\n",
      "  .format(len(labels), len(target_names))\n"
     ]
    }
   ],
   "source": [
    "svm_sgdc = pipeline(classifiers[2])\n",
    "svm_sgdc.fit(x_train, y_train)\n",
    "svm_sgdc_pred = svm_sgdc.predict(x_test)\n",
    "\n",
    "print(\"SGDC SVM\")\n",
    "print(f\"real classes: {y_test.values}\")\n",
    "print(f\"predicted classes: {svm_sgdc_pred}\")\n",
    "print(f\"accuracy: {metrics.accuracy_score(svm_sgdc_pred, y_test)}\")\n",
    "print(classification_report(y_test, svm_sgdc_pred, target_names = my_tags))"
   ]
  },
  {
   "cell_type": "code",
   "execution_count": 61,
   "metadata": {},
   "outputs": [
    {
     "name": "stdout",
     "output_type": "stream",
     "text": [
      "Decision Tree\n",
      "real classes: ['i' 'i' 'u']\n",
      "predicted classes: ['u' 'r' 'r']\n",
      "accuracy: 0.0\n",
      "             precision    recall  f1-score   support\n",
      "\n",
      "          u       0.00      0.00      0.00         2\n",
      "          r       0.00      0.00      0.00         0\n",
      "          i       0.00      0.00      0.00         1\n",
      "\n",
      "avg / total       0.00      0.00      0.00         3\n",
      "\n"
     ]
    },
    {
     "name": "stderr",
     "output_type": "stream",
     "text": [
      "/home/ellen/anaconda3/lib/python3.7/site-packages/sklearn/metrics/classification.py:1135: UndefinedMetricWarning: Precision and F-score are ill-defined and being set to 0.0 in labels with no predicted samples.\n",
      "  'precision', 'predicted', average, warn_for)\n",
      "/home/ellen/anaconda3/lib/python3.7/site-packages/sklearn/metrics/classification.py:1137: UndefinedMetricWarning: Recall and F-score are ill-defined and being set to 0.0 in labels with no true samples.\n",
      "  'recall', 'true', average, warn_for)\n"
     ]
    }
   ],
   "source": [
    "decision_tree = pipeline(classifiers[3])\n",
    "decision_tree.fit(x_train, y_train)\n",
    "decision_tree_pred = decision_tree.predict(x_test)\n",
    "\n",
    "print(\"Decision Tree\")\n",
    "print(f\"real classes: {y_test.values}\")\n",
    "print(f\"predicted classes: {decision_tree_pred}\")\n",
    "print(f\"accuracy: {metrics.accuracy_score(decision_tree_pred, y_test)}\")\n",
    "print(classification_report(y_test, decision_tree_pred, target_names = my_tags))"
   ]
  },
  {
   "cell_type": "code",
   "execution_count": 65,
   "metadata": {},
   "outputs": [
    {
     "name": "stdout",
     "output_type": "stream",
     "text": [
      "Multinominal Naive\n",
      "real classes: ['i' 'i' 'u']\n",
      "predicted classes: ['r' 'u' 'u']\n",
      "accuracy: 0.3333333333333333\n",
      "             precision    recall  f1-score   support\n",
      "\n",
      "          u       0.00      0.00      0.00         2\n",
      "          r       0.00      0.00      0.00         0\n",
      "          i       0.50      1.00      0.67         1\n",
      "\n",
      "avg / total       0.17      0.33      0.22         3\n",
      "\n"
     ]
    },
    {
     "name": "stderr",
     "output_type": "stream",
     "text": [
      "/home/ellen/anaconda3/lib/python3.7/site-packages/sklearn/metrics/classification.py:1135: UndefinedMetricWarning: Precision and F-score are ill-defined and being set to 0.0 in labels with no predicted samples.\n",
      "  'precision', 'predicted', average, warn_for)\n",
      "/home/ellen/anaconda3/lib/python3.7/site-packages/sklearn/metrics/classification.py:1137: UndefinedMetricWarning: Recall and F-score are ill-defined and being set to 0.0 in labels with no true samples.\n",
      "  'recall', 'true', average, warn_for)\n"
     ]
    }
   ],
   "source": [
    "multi_naive = pipeline(classifiers[4])\n",
    "multi_naive.fit(x_train, y_train)\n",
    "multi_naive_pred = multi_naive.predict(x_test)\n",
    "\n",
    "print(\"Multinominal Naive\")\n",
    "print(f\"real classes: {y_test.values}\")\n",
    "print(f\"predicted classes: {multi_naive_pred}\")\n",
    "print(f\"accuracy: {metrics.accuracy_score(multi_naive_pred, y_test)}\")\n",
    "print(classification_report(y_test, multi_naive_pred, target_names = my_tags))"
   ]
  },
  {
   "cell_type": "code",
   "execution_count": 83,
   "metadata": {},
   "outputs": [
    {
     "name": "stdout",
     "output_type": "stream",
     "text": [
      "Neural Net\n",
      "real classes: ['i' 'i' 'u']\n",
      "predicted classes: ['r' 'u' 'u']\n",
      "accuracy: 0.3333333333333333\n",
      "             precision    recall  f1-score   support\n",
      "\n",
      "          u       0.00      0.00      0.00         2\n",
      "          r       0.00      0.00      0.00         0\n",
      "          i       0.50      1.00      0.67         1\n",
      "\n",
      "avg / total       0.17      0.33      0.22         3\n",
      "\n"
     ]
    },
    {
     "name": "stderr",
     "output_type": "stream",
     "text": [
      "/home/ellen/anaconda3/lib/python3.7/site-packages/sklearn/metrics/classification.py:1135: UndefinedMetricWarning: Precision and F-score are ill-defined and being set to 0.0 in labels with no predicted samples.\n",
      "  'precision', 'predicted', average, warn_for)\n",
      "/home/ellen/anaconda3/lib/python3.7/site-packages/sklearn/metrics/classification.py:1137: UndefinedMetricWarning: Recall and F-score are ill-defined and being set to 0.0 in labels with no true samples.\n",
      "  'recall', 'true', average, warn_for)\n"
     ]
    }
   ],
   "source": [
    "neural_net = pipeline(classifiers[6])\n",
    "neural_net.fit(x_train, y_train)\n",
    "neural_net_pred = neural_net.predict(x_test)\n",
    "\n",
    "print(\"Neural Net\")\n",
    "print(f\"real classes: {y_test.values}\")\n",
    "print(f\"predicted classes: {neural_net_pred}\")\n",
    "print(f\"accuracy: {metrics.accuracy_score(neural_net_pred, y_test)}\")\n",
    "print(classification_report(y_test, neural_net_pred, target_names = my_tags))"
   ]
  },
  {
   "cell_type": "markdown",
   "metadata": {},
   "source": [
    "### Classificação com NLTK"
   ]
  },
  {
   "cell_type": "code",
   "execution_count": 84,
   "metadata": {},
   "outputs": [],
   "source": [
    "def pre_process(raw):\n",
    "    stopwords = nltk.corpus.stopwords.words('portuguese')\n",
    "    \n",
    "    tokens = nltk.word_tokenize(raw.lower())\n",
    "    filtered = [t for t in tokens if t not in stopwords and t.isalpha() and len(t) > 1]\n",
    "    text = nltk.Text(tokens)\n",
    "    \n",
    "    return tokens, filtered, text"
   ]
  },
  {
   "cell_type": "code",
   "execution_count": 85,
   "metadata": {},
   "outputs": [],
   "source": [
    "sra_tokens, sra_filtered, sra_text = pre_process(senhora)\n",
    "diva_tokens, diva_filtered, diva_text = pre_process(diva)\n",
    "gau_tokens, gau_filtered, gau_text = pre_process(gaucho)\n",
    "gua_tokens, gua_filtered, gua_text = pre_process(guarani)\n",
    "ira_tokens, ira_filtered, ira_text = pre_process(iracema)\n",
    "luci_tokens, luci_filtered, luci_text = pre_process(luciola)\n",
    "viu_tokens, viu_filtered, viu_text = pre_process(viuvinha)\n",
    "ubi_tokens, ubi_filtered, ubi_text = pre_process(ubirajara)\n",
    "sert_tokens, sert_filtered, sert_text = pre_process(sertanejo)\n",
    "ipe_tokens, ipe_filtered, ipe_text = pre_process(troncodoipe)"
   ]
  },
  {
   "cell_type": "code",
   "execution_count": 86,
   "metadata": {},
   "outputs": [],
   "source": [
    "tokens = [sra_filtered, diva_filtered, gau_filtered, gua_filtered, ira_filtered, luci_filtered, viu_filtered, ubi_filtered, sert_tokens, ipe_tokens]"
   ]
  },
  {
   "cell_type": "code",
   "execution_count": 87,
   "metadata": {},
   "outputs": [],
   "source": [
    "def TFIDF(document):\n",
    "    word_tfidf = []\n",
    "    for word in set(collection):\n",
    "        word_tfidf.append(collection.tf_idf(word,document))\n",
    "    return word_tfidf"
   ]
  },
  {
   "cell_type": "code",
   "execution_count": 88,
   "metadata": {},
   "outputs": [],
   "source": [
    "collection = nltk.text.TextCollection(texts)"
   ]
  },
  {
   "cell_type": "code",
   "execution_count": 89,
   "metadata": {},
   "outputs": [],
   "source": [
    "import os\n",
    "from nltk.corpus.reader.plaintext import PlaintextCorpusReader\n",
    "\n",
    "corpusdir = 'books/'\n",
    "corpus = PlaintextCorpusReader(corpusdir, '.*')"
   ]
  },
  {
   "cell_type": "code",
   "execution_count": 90,
   "metadata": {},
   "outputs": [],
   "source": [
    "labeled_tokens = list(zip(tokens, labels))"
   ]
  },
  {
   "cell_type": "code",
   "execution_count": 91,
   "metadata": {},
   "outputs": [],
   "source": [
    "stopwords = nltk.corpus.stopwords.words('portuguese')\n",
    "filtered_words = [w.lower() for w in corpus.words() if w not in stopwords and w.isalpha() and len(w) > 1]\n",
    "\n",
    "all_words = nltk.FreqDist(filtered_words)"
   ]
  },
  {
   "cell_type": "code",
   "execution_count": 92,
   "metadata": {},
   "outputs": [],
   "source": [
    "word_features = list(all_words)[:2000]"
   ]
  },
  {
   "cell_type": "code",
   "execution_count": 93,
   "metadata": {},
   "outputs": [],
   "source": [
    "def document_features(document):\n",
    "    document_words = set(document)\n",
    "    features = {}\n",
    "    for word in word_features:\n",
    "        features['contains({})'.format(word)] = (word in document_words)\n",
    "    return features"
   ]
  },
  {
   "cell_type": "code",
   "execution_count": 94,
   "metadata": {},
   "outputs": [],
   "source": [
    "documents = [(list(corpus.words(fileid)), category)\n",
    "             for category in labels\n",
    "             for fileid in corpus.fileids()]"
   ]
  },
  {
   "cell_type": "code",
   "execution_count": 95,
   "metadata": {},
   "outputs": [],
   "source": [
    "featuresets = [(document_features(d), c) for (d,c) in documents]"
   ]
  },
  {
   "cell_type": "code",
   "execution_count": 96,
   "metadata": {},
   "outputs": [],
   "source": [
    "train_set, test_set = featuresets[:50], featuresets[50:]"
   ]
  },
  {
   "cell_type": "code",
   "execution_count": 97,
   "metadata": {},
   "outputs": [],
   "source": [
    "naivebayes = nltk.NaiveBayesClassifier.train(train_set)"
   ]
  },
  {
   "cell_type": "code",
   "execution_count": 98,
   "metadata": {},
   "outputs": [
    {
     "data": {
      "text/plain": [
       "0.4"
      ]
     },
     "execution_count": 98,
     "metadata": {},
     "output_type": "execute_result"
    }
   ],
   "source": [
    "nltk.classify.accuracy(naivebayes, test_set)"
   ]
  },
  {
   "cell_type": "code",
   "execution_count": 99,
   "metadata": {},
   "outputs": [],
   "source": [
    "decisiontree = nltk.DecisionTreeClassifier.train(train_set)"
   ]
  },
  {
   "cell_type": "code",
   "execution_count": 100,
   "metadata": {},
   "outputs": [
    {
     "data": {
      "text/plain": [
       "0.4"
      ]
     },
     "execution_count": 100,
     "metadata": {},
     "output_type": "execute_result"
    }
   ],
   "source": [
    "nltk.classify.accuracy(decisiontree, test_set)"
   ]
  },
  {
   "cell_type": "markdown",
   "metadata": {},
   "source": [
    "### Classificação com NLTK e Scikitlearn"
   ]
  },
  {
   "cell_type": "code",
   "execution_count": 101,
   "metadata": {},
   "outputs": [
    {
     "name": "stdout",
     "output_type": "stream",
     "text": [
      "Original Naive Bayes Algo accuracy percent: 40.0\n",
      "Most Informative Features\n",
      "       contains(moleira) = True                r : u      =      1.1 : 1.0\n",
      "    contains(desapareci) = True                r : u      =      1.1 : 1.0\n",
      "        contains(ralhei) = True                r : u      =      1.1 : 1.0\n",
      "          contains(diva) = True                r : u      =      1.1 : 1.0\n",
      "        contains(homens) = False               r : u      =      1.1 : 1.0\n",
      "       contains(retirei) = True                r : u      =      1.1 : 1.0\n",
      "     contains(repuxavam) = True                r : u      =      1.1 : 1.0\n",
      "           contains(bom) = False               r : u      =      1.1 : 1.0\n",
      "         contains(baixo) = False               r : u      =      1.1 : 1.0\n",
      "          contains(mila) = True                r : u      =      1.1 : 1.0\n",
      "     contains(perfumado) = False               r : u      =      1.1 : 1.0\n",
      "    contains(desastrado) = True                r : u      =      1.1 : 1.0\n",
      "     contains(densidade) = True                r : u      =      1.1 : 1.0\n",
      "         contains(irmão) = False               r : u      =      1.1 : 1.0\n",
      "  contains(achamalotada) = True                r : u      =      1.1 : 1.0\n"
     ]
    }
   ],
   "source": [
    "from nltk.classify.scikitlearn import SklearnClassifier\n",
    "from sklearn.naive_bayes import MultinomialNB,BernoulliNB\n",
    "from sklearn.linear_model import SGDClassifier\n",
    "from sklearn.svm import SVC, LinearSVC, NuSVC\n",
    "\n",
    "classifier = nltk.NaiveBayesClassifier.train(train_set)\n",
    "original_naive = nltk.classify.accuracy(classifier, test_set)\n",
    "print(\"Original Naive Bayes Algo accuracy percent:\", (original_naive)*100)\n",
    "classifier.show_most_informative_features(15)"
   ]
  },
  {
   "cell_type": "code",
   "execution_count": 102,
   "metadata": {},
   "outputs": [
    {
     "name": "stdout",
     "output_type": "stream",
     "text": [
      "MNB_classifier accuracy percent: 22.0\n"
     ]
    }
   ],
   "source": [
    "MNB_classifier = SklearnClassifier(MultinomialNB())\n",
    "MNB_classifier.train(train_set)\n",
    "MNB_accuracy = nltk.classify.accuracy(MNB_classifier, test_set)\n",
    "print(\"MNB_classifier accuracy percent:\", (MNB_accuracy)*100)"
   ]
  },
  {
   "cell_type": "code",
   "execution_count": 103,
   "metadata": {},
   "outputs": [
    {
     "name": "stdout",
     "output_type": "stream",
     "text": [
      "BernoulliNB_classifier accuracy percent: 24.0\n"
     ]
    }
   ],
   "source": [
    "BernoulliNB_classifier = SklearnClassifier(BernoulliNB())\n",
    "BernoulliNB_classifier.train(train_set)\n",
    "BernoulliNB_accuracy = nltk.classify.accuracy(BernoulliNB_classifier, test_set)\n",
    "print(\"BernoulliNB_classifier accuracy percent:\", (BernoulliNB_accuracy)*100)"
   ]
  },
  {
   "cell_type": "code",
   "execution_count": 104,
   "metadata": {},
   "outputs": [
    {
     "name": "stdout",
     "output_type": "stream",
     "text": [
      "SGDClassifier_classifier accuracy percent: 40.0\n"
     ]
    },
    {
     "name": "stderr",
     "output_type": "stream",
     "text": [
      "/home/ellen/anaconda3/lib/python3.7/site-packages/sklearn/linear_model/stochastic_gradient.py:128: FutureWarning: max_iter and tol parameters have been added in <class 'sklearn.linear_model.stochastic_gradient.SGDClassifier'> in 0.19. If both are left unset, they default to max_iter=5 and tol=None. If tol is not None, max_iter defaults to max_iter=1000. From 0.21, default max_iter will be 1000, and default tol will be 1e-3.\n",
      "  \"and default tol will be 1e-3.\" % type(self), FutureWarning)\n"
     ]
    }
   ],
   "source": [
    "SGDClassifier_classifier = SklearnClassifier(SGDClassifier())\n",
    "SGDClassifier_classifier.train(train_set)\n",
    "SGDClassifier_accuracy = nltk.classify.accuracy(SGDClassifier_classifier, test_set)\n",
    "print(\"SGDClassifier_classifier accuracy percent:\", (SGDClassifier_accuracy)*100)"
   ]
  },
  {
   "cell_type": "code",
   "execution_count": 105,
   "metadata": {},
   "outputs": [
    {
     "name": "stdout",
     "output_type": "stream",
     "text": [
      "SVC_classifier accuracy percent: 30.0\n"
     ]
    }
   ],
   "source": [
    "SVC_classifier = SklearnClassifier(SVC())\n",
    "SVC_classifier.train(train_set)\n",
    "SVC_accuracy = nltk.classify.accuracy(SVC_classifier, test_set)\n",
    "print(\"SVC_classifier accuracy percent:\", (SVC_accuracy)*100)"
   ]
  },
  {
   "cell_type": "code",
   "execution_count": 106,
   "metadata": {},
   "outputs": [
    {
     "name": "stdout",
     "output_type": "stream",
     "text": [
      "LinearSVC_classifier accuracy percent: 34.0\n"
     ]
    }
   ],
   "source": [
    "LinearSVC_classifier = SklearnClassifier(LinearSVC())\n",
    "LinearSVC_classifier.train(train_set)\n",
    "LinearSVC_accuracy = nltk.classify.accuracy(LinearSVC_classifier, test_set)\n",
    "print(\"LinearSVC_classifier accuracy percent:\", (LinearSVC_accuracy)*100)"
   ]
  },
  {
   "cell_type": "code",
   "execution_count": 107,
   "metadata": {},
   "outputs": [],
   "source": [
    "d = {\n",
    "    \"NaiveBayes\": original_naive,\n",
    "    \"MNB\": MNB_accuracy,\n",
    "    \"BernoulliNB\": BernoulliNB_accuracy,\n",
    "    \"SGDClassifier\": SGDClassifier_accuracy,\n",
    "    \"SVC\": SVC_accuracy,\n",
    "    \"LinearSVC\": LinearSVC_accuracy\n",
    "}"
   ]
  },
  {
   "cell_type": "code",
   "execution_count": 109,
   "metadata": {},
   "outputs": [
    {
     "data": {
      "text/plain": [
       "<matplotlib.axes._subplots.AxesSubplot at 0x7f70af7352b0>"
      ]
     },
     "execution_count": 109,
     "metadata": {},
     "output_type": "execute_result"
    },
    {
     "data": {
      "image/png": "[encoded data removed]",
      "text/plain": [
       "<Figure size 432x288 with 1 Axes>"
      ]
     },
     "metadata": {
      "needs_background": "light"
     },
     "output_type": "display_data"
    }
   ],
   "source": [
    "pd.Series(d).plot(kind='bar')"
   ]
  },
  {
   "cell_type": "code",
   "execution_count": null,
   "metadata": {},
   "outputs": [],
   "source": []
  }
 ],
 "metadata": {
  "kernelspec": {
   "display_name": "Python 3",
   "language": "python",
   "name": "python3"
  },
  "language_info": {
   "codemirror_mode": {
    "name": "ipython",
    "version": 3
   },
   "file_extension": ".py",
   "mimetype": "text/x-python",
   "name": "python",
   "nbconvert_exporter": "python",
   "pygments_lexer": "ipython3",
   "version": "3.7.0"
  }
 },
 "nbformat": 4,
 "nbformat_minor": 2
}
